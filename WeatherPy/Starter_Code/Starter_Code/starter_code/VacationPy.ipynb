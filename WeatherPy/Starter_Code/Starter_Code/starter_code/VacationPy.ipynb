{
 "cells": [
  {
   "cell_type": "markdown",
   "metadata": {},
   "source": [
    "# VacationPy\n",
    "---\n",
    "\n",
    "## Starter Code to Import Libraries and Load the Weather and Coordinates Data"
   ]
  },
  {
   "cell_type": "code",
   "execution_count": 1,
   "metadata": {},
   "outputs": [
    {
     "data": {
      "application/javascript": "(function(root) {\n  function now() {\n    return new Date();\n  }\n\n  var force = true;\n  var py_version = '3.3.0'.replace('rc', '-rc.').replace('.dev', '-dev.');\n  var reloading = false;\n  var Bokeh = root.Bokeh;\n\n  if (typeof (root._bokeh_timeout) === \"undefined\" || force) {\n    root._bokeh_timeout = Date.now() + 5000;\n    root._bokeh_failed_load = false;\n  }\n\n  function run_callbacks() {\n    try {\n      root._bokeh_onload_callbacks.forEach(function(callback) {\n        if (callback != null)\n          callback();\n      });\n    } finally {\n      delete root._bokeh_onload_callbacks;\n    }\n    console.debug(\"Bokeh: all callbacks have finished\");\n  }\n\n  function load_libs(css_urls, js_urls, js_modules, js_exports, callback) {\n    if (css_urls == null) css_urls = [];\n    if (js_urls == null) js_urls = [];\n    if (js_modules == null) js_modules = [];\n    if (js_exports == null) js_exports = {};\n\n    root._bokeh_onload_callbacks.push(callback);\n\n    if (root._bokeh_is_loading > 0) {\n      console.debug(\"Bokeh: BokehJS is being loaded, scheduling callback at\", now());\n      return null;\n    }\n    if (js_urls.length === 0 && js_modules.length === 0 && Object.keys(js_exports).length === 0) {\n      run_callbacks();\n      return null;\n    }\n    if (!reloading) {\n      console.debug(\"Bokeh: BokehJS not loaded, scheduling load and callback at\", now());\n    }\n\n    function on_load() {\n      root._bokeh_is_loading--;\n      if (root._bokeh_is_loading === 0) {\n        console.debug(\"Bokeh: all BokehJS libraries/stylesheets loaded\");\n        run_callbacks()\n      }\n    }\n    window._bokeh_on_load = on_load\n\n    function on_error() {\n      console.error(\"failed to load \" + url);\n    }\n\n    var skip = [];\n    if (window.requirejs) {\n      window.requirejs.config({'packages': {}, 'paths': {'jspanel': 'https://cdn.jsdelivr.net/npm/jspanel4@4.12.0/dist/jspanel', 'jspanel-modal': 'https://cdn.jsdelivr.net/npm/jspanel4@4.12.0/dist/extensions/modal/jspanel.modal', 'jspanel-tooltip': 'https://cdn.jsdelivr.net/npm/jspanel4@4.12.0/dist/extensions/tooltip/jspanel.tooltip', 'jspanel-hint': 'https://cdn.jsdelivr.net/npm/jspanel4@4.12.0/dist/extensions/hint/jspanel.hint', 'jspanel-layout': 'https://cdn.jsdelivr.net/npm/jspanel4@4.12.0/dist/extensions/layout/jspanel.layout', 'jspanel-contextmenu': 'https://cdn.jsdelivr.net/npm/jspanel4@4.12.0/dist/extensions/contextmenu/jspanel.contextmenu', 'jspanel-dock': 'https://cdn.jsdelivr.net/npm/jspanel4@4.12.0/dist/extensions/dock/jspanel.dock', 'gridstack': 'https://cdn.jsdelivr.net/npm/gridstack@7.2.3/dist/gridstack-all', 'notyf': 'https://cdn.jsdelivr.net/npm/notyf@3/notyf.min'}, 'shim': {'jspanel': {'exports': 'jsPanel'}, 'gridstack': {'exports': 'GridStack'}}});\n      require([\"jspanel\"], function(jsPanel) {\n\twindow.jsPanel = jsPanel\n\ton_load()\n      })\n      require([\"jspanel-modal\"], function() {\n\ton_load()\n      })\n      require([\"jspanel-tooltip\"], function() {\n\ton_load()\n      })\n      require([\"jspanel-hint\"], function() {\n\ton_load()\n      })\n      require([\"jspanel-layout\"], function() {\n\ton_load()\n      })\n      require([\"jspanel-contextmenu\"], function() {\n\ton_load()\n      })\n      require([\"jspanel-dock\"], function() {\n\ton_load()\n      })\n      require([\"gridstack\"], function(GridStack) {\n\twindow.GridStack = GridStack\n\ton_load()\n      })\n      require([\"notyf\"], function() {\n\ton_load()\n      })\n      root._bokeh_is_loading = css_urls.length + 9;\n    } else {\n      root._bokeh_is_loading = css_urls.length + js_urls.length + js_modules.length + Object.keys(js_exports).length;\n    }\n\n    var existing_stylesheets = []\n    var links = document.getElementsByTagName('link')\n    for (var i = 0; i < links.length; i++) {\n      var link = links[i]\n      if (link.href != null) {\n\texisting_stylesheets.push(link.href)\n      }\n    }\n    for (var i = 0; i < css_urls.length; i++) {\n      var url = css_urls[i];\n      if (existing_stylesheets.indexOf(url) !== -1) {\n\ton_load()\n\tcontinue;\n      }\n      const element = document.createElement(\"link\");\n      element.onload = on_load;\n      element.onerror = on_error;\n      element.rel = \"stylesheet\";\n      element.type = \"text/css\";\n      element.href = url;\n      console.debug(\"Bokeh: injecting link tag for BokehJS stylesheet: \", url);\n      document.body.appendChild(element);\n    }    if (((window['jsPanel'] !== undefined) && (!(window['jsPanel'] instanceof HTMLElement))) || window.requirejs) {\n      var urls = ['https://cdn.holoviz.org/panel/1.3.4/dist/bundled/floatpanel/jspanel4@4.12.0/dist/jspanel.js', 'https://cdn.holoviz.org/panel/1.3.4/dist/bundled/floatpanel/jspanel4@4.12.0/dist/extensions/modal/jspanel.modal.js', 'https://cdn.holoviz.org/panel/1.3.4/dist/bundled/floatpanel/jspanel4@4.12.0/dist/extensions/tooltip/jspanel.tooltip.js', 'https://cdn.holoviz.org/panel/1.3.4/dist/bundled/floatpanel/jspanel4@4.12.0/dist/extensions/hint/jspanel.hint.js', 'https://cdn.holoviz.org/panel/1.3.4/dist/bundled/floatpanel/jspanel4@4.12.0/dist/extensions/layout/jspanel.layout.js', 'https://cdn.holoviz.org/panel/1.3.4/dist/bundled/floatpanel/jspanel4@4.12.0/dist/extensions/contextmenu/jspanel.contextmenu.js', 'https://cdn.holoviz.org/panel/1.3.4/dist/bundled/floatpanel/jspanel4@4.12.0/dist/extensions/dock/jspanel.dock.js'];\n      for (var i = 0; i < urls.length; i++) {\n        skip.push(urls[i])\n      }\n    }    if (((window['GridStack'] !== undefined) && (!(window['GridStack'] instanceof HTMLElement))) || window.requirejs) {\n      var urls = ['https://cdn.holoviz.org/panel/1.3.4/dist/bundled/gridstack/gridstack@7.2.3/dist/gridstack-all.js'];\n      for (var i = 0; i < urls.length; i++) {\n        skip.push(urls[i])\n      }\n    }    if (((window['Notyf'] !== undefined) && (!(window['Notyf'] instanceof HTMLElement))) || window.requirejs) {\n      var urls = ['https://cdn.holoviz.org/panel/1.3.4/dist/bundled/notificationarea/notyf@3/notyf.min.js'];\n      for (var i = 0; i < urls.length; i++) {\n        skip.push(urls[i])\n      }\n    }    var existing_scripts = []\n    var scripts = document.getElementsByTagName('script')\n    for (var i = 0; i < scripts.length; i++) {\n      var script = scripts[i]\n      if (script.src != null) {\n\texisting_scripts.push(script.src)\n      }\n    }\n    for (var i = 0; i < js_urls.length; i++) {\n      var url = js_urls[i];\n      if (skip.indexOf(url) !== -1 || existing_scripts.indexOf(url) !== -1) {\n\tif (!window.requirejs) {\n\t  on_load();\n\t}\n\tcontinue;\n      }\n      var element = document.createElement('script');\n      element.onload = on_load;\n      element.onerror = on_error;\n      element.async = false;\n      element.src = url;\n      console.debug(\"Bokeh: injecting script tag for BokehJS library: \", url);\n      document.head.appendChild(element);\n    }\n    for (var i = 0; i < js_modules.length; i++) {\n      var url = js_modules[i];\n      if (skip.indexOf(url) !== -1 || existing_scripts.indexOf(url) !== -1) {\n\tif (!window.requirejs) {\n\t  on_load();\n\t}\n\tcontinue;\n      }\n      var element = document.createElement('script');\n      element.onload = on_load;\n      element.onerror = on_error;\n      element.async = false;\n      element.src = url;\n      element.type = \"module\";\n      console.debug(\"Bokeh: injecting script tag for BokehJS library: \", url);\n      document.head.appendChild(element);\n    }\n    for (const name in js_exports) {\n      var url = js_exports[name];\n      if (skip.indexOf(url) >= 0 || root[name] != null) {\n\tif (!window.requirejs) {\n\t  on_load();\n\t}\n\tcontinue;\n      }\n      var element = document.createElement('script');\n      element.onerror = on_error;\n      element.async = false;\n      element.type = \"module\";\n      console.debug(\"Bokeh: injecting script tag for BokehJS library: \", url);\n      element.textContent = `\n      import ${name} from \"${url}\"\n      window.${name} = ${name}\n      window._bokeh_on_load()\n      `\n      document.head.appendChild(element);\n    }\n    if (!js_urls.length && !js_modules.length) {\n      on_load()\n    }\n  };\n\n  function inject_raw_css(css) {\n    const element = document.createElement(\"style\");\n    element.appendChild(document.createTextNode(css));\n    document.body.appendChild(element);\n  }\n\n  var js_urls = [\"https://cdn.bokeh.org/bokeh/release/bokeh-3.3.0.min.js\", \"https://cdn.bokeh.org/bokeh/release/bokeh-gl-3.3.0.min.js\", \"https://cdn.bokeh.org/bokeh/release/bokeh-widgets-3.3.0.min.js\", \"https://cdn.bokeh.org/bokeh/release/bokeh-tables-3.3.0.min.js\", \"https://cdn.holoviz.org/panel/1.3.4/dist/panel.min.js\"];\n  var js_modules = [];\n  var js_exports = {};\n  var css_urls = [];\n  var inline_js = [    function(Bokeh) {\n      Bokeh.set_log_level(\"info\");\n    },\nfunction(Bokeh) {} // ensure no trailing comma for IE\n  ];\n\n  function run_inline_js() {\n    if ((root.Bokeh !== undefined) || (force === true)) {\n      for (var i = 0; i < inline_js.length; i++) {\n\ttry {\n          inline_js[i].call(root, root.Bokeh);\n\t} catch(e) {\n\t  if (!reloading) {\n\t    throw e;\n\t  }\n\t}\n      }\n      // Cache old bokeh versions\n      if (Bokeh != undefined && !reloading) {\n\tvar NewBokeh = root.Bokeh;\n\tif (Bokeh.versions === undefined) {\n\t  Bokeh.versions = new Map();\n\t}\n\tif (NewBokeh.version !== Bokeh.version) {\n\t  Bokeh.versions.set(NewBokeh.version, NewBokeh)\n\t}\n\troot.Bokeh = Bokeh;\n      }} else if (Date.now() < root._bokeh_timeout) {\n      setTimeout(run_inline_js, 100);\n    } else if (!root._bokeh_failed_load) {\n      console.log(\"Bokeh: BokehJS failed to load within specified timeout.\");\n      root._bokeh_failed_load = true;\n    }\n    root._bokeh_is_initializing = false\n  }\n\n  function load_or_wait() {\n    // Implement a backoff loop that tries to ensure we do not load multiple\n    // versions of Bokeh and its dependencies at the same time.\n    // In recent versions we use the root._bokeh_is_initializing flag\n    // to determine whether there is an ongoing attempt to initialize\n    // bokeh, however for backward compatibility we also try to ensure\n    // that we do not start loading a newer (Panel>=1.0 and Bokeh>3) version\n    // before older versions are fully initialized.\n    if (root._bokeh_is_initializing && Date.now() > root._bokeh_timeout) {\n      root._bokeh_is_initializing = false;\n      root._bokeh_onload_callbacks = undefined;\n      console.log(\"Bokeh: BokehJS was loaded multiple times but one version failed to initialize.\");\n      load_or_wait();\n    } else if (root._bokeh_is_initializing || (typeof root._bokeh_is_initializing === \"undefined\" && root._bokeh_onload_callbacks !== undefined)) {\n      setTimeout(load_or_wait, 100);\n    } else {\n      root._bokeh_is_initializing = true\n      root._bokeh_onload_callbacks = []\n      var bokeh_loaded = Bokeh != null && (Bokeh.version === py_version || (Bokeh.versions !== undefined && Bokeh.versions.has(py_version)));\n      if (!reloading && !bokeh_loaded) {\n\troot.Bokeh = undefined;\n      }\n      load_libs(css_urls, js_urls, js_modules, js_exports, function() {\n\tconsole.debug(\"Bokeh: BokehJS plotting callback run at\", now());\n\trun_inline_js();\n      });\n    }\n  }\n  // Give older versions of the autoload script a head-start to ensure\n  // they initialize before we start loading newer version.\n  setTimeout(load_or_wait, 100)\n}(window));",
      "application/vnd.holoviews_load.v0+json": ""
     },
     "metadata": {},
     "output_type": "display_data"
    },
    {
     "data": {
      "application/javascript": "\nif ((window.PyViz === undefined) || (window.PyViz instanceof HTMLElement)) {\n  window.PyViz = {comms: {}, comm_status:{}, kernels:{}, receivers: {}, plot_index: []}\n}\n\n\n    function JupyterCommManager() {\n    }\n\n    JupyterCommManager.prototype.register_target = function(plot_id, comm_id, msg_handler) {\n      if (window.comm_manager || ((window.Jupyter !== undefined) && (Jupyter.notebook.kernel != null))) {\n        var comm_manager = window.comm_manager || Jupyter.notebook.kernel.comm_manager;\n        comm_manager.register_target(comm_id, function(comm) {\n          comm.on_msg(msg_handler);\n        });\n      } else if ((plot_id in window.PyViz.kernels) && (window.PyViz.kernels[plot_id])) {\n        window.PyViz.kernels[plot_id].registerCommTarget(comm_id, function(comm) {\n          comm.onMsg = msg_handler;\n        });\n      } else if (typeof google != 'undefined' && google.colab.kernel != null) {\n        google.colab.kernel.comms.registerTarget(comm_id, (comm) => {\n          var messages = comm.messages[Symbol.asyncIterator]();\n          function processIteratorResult(result) {\n            var message = result.value;\n            console.log(message)\n            var content = {data: message.data, comm_id};\n            var buffers = []\n            for (var buffer of message.buffers || []) {\n              buffers.push(new DataView(buffer))\n            }\n            var metadata = message.metadata || {};\n            var msg = {content, buffers, metadata}\n            msg_handler(msg);\n            return messages.next().then(processIteratorResult);\n          }\n          return messages.next().then(processIteratorResult);\n        })\n      }\n    }\n\n    JupyterCommManager.prototype.get_client_comm = function(plot_id, comm_id, msg_handler) {\n      if (comm_id in window.PyViz.comms) {\n        return window.PyViz.comms[comm_id];\n      } else if (window.comm_manager || ((window.Jupyter !== undefined) && (Jupyter.notebook.kernel != null))) {\n        var comm_manager = window.comm_manager || Jupyter.notebook.kernel.comm_manager;\n        var comm = comm_manager.new_comm(comm_id, {}, {}, {}, comm_id);\n        if (msg_handler) {\n          comm.on_msg(msg_handler);\n        }\n      } else if ((plot_id in window.PyViz.kernels) && (window.PyViz.kernels[plot_id])) {\n        var comm = window.PyViz.kernels[plot_id].connectToComm(comm_id);\n        comm.open();\n        if (msg_handler) {\n          comm.onMsg = msg_handler;\n        }\n      } else if (typeof google != 'undefined' && google.colab.kernel != null) {\n        var comm_promise = google.colab.kernel.comms.open(comm_id)\n        comm_promise.then((comm) => {\n          window.PyViz.comms[comm_id] = comm;\n          if (msg_handler) {\n            var messages = comm.messages[Symbol.asyncIterator]();\n            function processIteratorResult(result) {\n              var message = result.value;\n              var content = {data: message.data};\n              var metadata = message.metadata || {comm_id};\n              var msg = {content, metadata}\n              msg_handler(msg);\n              return messages.next().then(processIteratorResult);\n            }\n            return messages.next().then(processIteratorResult);\n          }\n        }) \n        var sendClosure = (data, metadata, buffers, disposeOnDone) => {\n          return comm_promise.then((comm) => {\n            comm.send(data, metadata, buffers, disposeOnDone);\n          });\n        };\n        var comm = {\n          send: sendClosure\n        };\n      }\n      window.PyViz.comms[comm_id] = comm;\n      return comm;\n    }\n    window.PyViz.comm_manager = new JupyterCommManager();\n    \n\n\nvar JS_MIME_TYPE = 'application/javascript';\nvar HTML_MIME_TYPE = 'text/html';\nvar EXEC_MIME_TYPE = 'application/vnd.holoviews_exec.v0+json';\nvar CLASS_NAME = 'output';\n\n/**\n * Render data to the DOM node\n */\nfunction render(props, node) {\n  var div = document.createElement(\"div\");\n  var script = document.createElement(\"script\");\n  node.appendChild(div);\n  node.appendChild(script);\n}\n\n/**\n * Handle when a new output is added\n */\nfunction handle_add_output(event, handle) {\n  var output_area = handle.output_area;\n  var output = handle.output;\n  if ((output.data == undefined) || (!output.data.hasOwnProperty(EXEC_MIME_TYPE))) {\n    return\n  }\n  var id = output.metadata[EXEC_MIME_TYPE][\"id\"];\n  var toinsert = output_area.element.find(\".\" + CLASS_NAME.split(' ')[0]);\n  if (id !== undefined) {\n    var nchildren = toinsert.length;\n    var html_node = toinsert[nchildren-1].children[0];\n    html_node.innerHTML = output.data[HTML_MIME_TYPE];\n    var scripts = [];\n    var nodelist = html_node.querySelectorAll(\"script\");\n    for (var i in nodelist) {\n      if (nodelist.hasOwnProperty(i)) {\n        scripts.push(nodelist[i])\n      }\n    }\n\n    scripts.forEach( function (oldScript) {\n      var newScript = document.createElement(\"script\");\n      var attrs = [];\n      var nodemap = oldScript.attributes;\n      for (var j in nodemap) {\n        if (nodemap.hasOwnProperty(j)) {\n          attrs.push(nodemap[j])\n        }\n      }\n      attrs.forEach(function(attr) { newScript.setAttribute(attr.name, attr.value) });\n      newScript.appendChild(document.createTextNode(oldScript.innerHTML));\n      oldScript.parentNode.replaceChild(newScript, oldScript);\n    });\n    if (JS_MIME_TYPE in output.data) {\n      toinsert[nchildren-1].children[1].textContent = output.data[JS_MIME_TYPE];\n    }\n    output_area._hv_plot_id = id;\n    if ((window.Bokeh !== undefined) && (id in Bokeh.index)) {\n      window.PyViz.plot_index[id] = Bokeh.index[id];\n    } else {\n      window.PyViz.plot_index[id] = null;\n    }\n  } else if (output.metadata[EXEC_MIME_TYPE][\"server_id\"] !== undefined) {\n    var bk_div = document.createElement(\"div\");\n    bk_div.innerHTML = output.data[HTML_MIME_TYPE];\n    var script_attrs = bk_div.children[0].attributes;\n    for (var i = 0; i < script_attrs.length; i++) {\n      toinsert[toinsert.length - 1].childNodes[1].setAttribute(script_attrs[i].name, script_attrs[i].value);\n    }\n    // store reference to server id on output_area\n    output_area._bokeh_server_id = output.metadata[EXEC_MIME_TYPE][\"server_id\"];\n  }\n}\n\n/**\n * Handle when an output is cleared or removed\n */\nfunction handle_clear_output(event, handle) {\n  var id = handle.cell.output_area._hv_plot_id;\n  var server_id = handle.cell.output_area._bokeh_server_id;\n  if (((id === undefined) || !(id in PyViz.plot_index)) && (server_id !== undefined)) { return; }\n  var comm = window.PyViz.comm_manager.get_client_comm(\"hv-extension-comm\", \"hv-extension-comm\", function () {});\n  if (server_id !== null) {\n    comm.send({event_type: 'server_delete', 'id': server_id});\n    return;\n  } else if (comm !== null) {\n    comm.send({event_type: 'delete', 'id': id});\n  }\n  delete PyViz.plot_index[id];\n  if ((window.Bokeh !== undefined) & (id in window.Bokeh.index)) {\n    var doc = window.Bokeh.index[id].model.document\n    doc.clear();\n    const i = window.Bokeh.documents.indexOf(doc);\n    if (i > -1) {\n      window.Bokeh.documents.splice(i, 1);\n    }\n  }\n}\n\n/**\n * Handle kernel restart event\n */\nfunction handle_kernel_cleanup(event, handle) {\n  delete PyViz.comms[\"hv-extension-comm\"];\n  window.PyViz.plot_index = {}\n}\n\n/**\n * Handle update_display_data messages\n */\nfunction handle_update_output(event, handle) {\n  handle_clear_output(event, {cell: {output_area: handle.output_area}})\n  handle_add_output(event, handle)\n}\n\nfunction register_renderer(events, OutputArea) {\n  function append_mime(data, metadata, element) {\n    // create a DOM node to render to\n    var toinsert = this.create_output_subarea(\n    metadata,\n    CLASS_NAME,\n    EXEC_MIME_TYPE\n    );\n    this.keyboard_manager.register_events(toinsert);\n    // Render to node\n    var props = {data: data, metadata: metadata[EXEC_MIME_TYPE]};\n    render(props, toinsert[0]);\n    element.append(toinsert);\n    return toinsert\n  }\n\n  events.on('output_added.OutputArea', handle_add_output);\n  events.on('output_updated.OutputArea', handle_update_output);\n  events.on('clear_output.CodeCell', handle_clear_output);\n  events.on('delete.Cell', handle_clear_output);\n  events.on('kernel_ready.Kernel', handle_kernel_cleanup);\n\n  OutputArea.prototype.register_mime_type(EXEC_MIME_TYPE, append_mime, {\n    safe: true,\n    index: 0\n  });\n}\n\nif (window.Jupyter !== undefined) {\n  try {\n    var events = require('base/js/events');\n    var OutputArea = require('notebook/js/outputarea').OutputArea;\n    if (OutputArea.prototype.mime_types().indexOf(EXEC_MIME_TYPE) == -1) {\n      register_renderer(events, OutputArea);\n    }\n  } catch(err) {\n  }\n}\n",
      "application/vnd.holoviews_load.v0+json": ""
     },
     "metadata": {},
     "output_type": "display_data"
    },
    {
     "data": {
      "text/html": [
       "<style>*[data-root-id],\n",
       "*[data-root-id] > * {\n",
       "  box-sizing: border-box;\n",
       "  font-family: var(--jp-ui-font-family);\n",
       "  font-size: var(--jp-ui-font-size1);\n",
       "  color: var(--vscode-editor-foreground, var(--jp-ui-font-color1));\n",
       "}\n",
       "\n",
       "/* Override VSCode background color */\n",
       ".cell-output-ipywidget-background:has(\n",
       "    > .cell-output-ipywidget-background > .lm-Widget > *[data-root-id]\n",
       "  ),\n",
       ".cell-output-ipywidget-background:has(> .lm-Widget > *[data-root-id]) {\n",
       "  background-color: transparent !important;\n",
       "}\n",
       "</style>"
      ]
     },
     "metadata": {},
     "output_type": "display_data"
    },
    {
     "data": {
      "application/vnd.holoviews_exec.v0+json": "",
      "text/html": [
       "<div id='p1002'>\n",
       "  <div id=\"b6e789d8-172c-492f-a680-3a3dabc915f2\" data-root-id=\"p1002\" style=\"display: contents;\"></div>\n",
       "</div>\n",
       "<script type=\"application/javascript\">(function(root) {\n",
       "  var docs_json = {\"15ca4779-fe67-4a9e-9fa4-be6974ad7592\":{\"version\":\"3.3.0\",\"title\":\"Bokeh Application\",\"roots\":[{\"type\":\"object\",\"name\":\"panel.models.browser.BrowserInfo\",\"id\":\"p1002\"},{\"type\":\"object\",\"name\":\"panel.models.comm_manager.CommManager\",\"id\":\"p1003\",\"attributes\":{\"plot_id\":\"p1002\",\"comm_id\":\"73a52eee127441068bddf26540f4d253\",\"client_comm_id\":\"4ad17544f68d43bb8c6fe6520504b158\"}}],\"defs\":[{\"type\":\"model\",\"name\":\"ReactiveHTML1\"},{\"type\":\"model\",\"name\":\"FlexBox1\",\"properties\":[{\"name\":\"align_content\",\"kind\":\"Any\",\"default\":\"flex-start\"},{\"name\":\"align_items\",\"kind\":\"Any\",\"default\":\"flex-start\"},{\"name\":\"flex_direction\",\"kind\":\"Any\",\"default\":\"row\"},{\"name\":\"flex_wrap\",\"kind\":\"Any\",\"default\":\"wrap\"},{\"name\":\"justify_content\",\"kind\":\"Any\",\"default\":\"flex-start\"}]},{\"type\":\"model\",\"name\":\"FloatPanel1\",\"properties\":[{\"name\":\"config\",\"kind\":\"Any\",\"default\":{\"type\":\"map\"}},{\"name\":\"contained\",\"kind\":\"Any\",\"default\":true},{\"name\":\"position\",\"kind\":\"Any\",\"default\":\"right-top\"},{\"name\":\"offsetx\",\"kind\":\"Any\",\"default\":null},{\"name\":\"offsety\",\"kind\":\"Any\",\"default\":null},{\"name\":\"theme\",\"kind\":\"Any\",\"default\":\"primary\"},{\"name\":\"status\",\"kind\":\"Any\",\"default\":\"normalized\"}]},{\"type\":\"model\",\"name\":\"GridStack1\",\"properties\":[{\"name\":\"mode\",\"kind\":\"Any\",\"default\":\"warn\"},{\"name\":\"ncols\",\"kind\":\"Any\",\"default\":null},{\"name\":\"nrows\",\"kind\":\"Any\",\"default\":null},{\"name\":\"allow_resize\",\"kind\":\"Any\",\"default\":true},{\"name\":\"allow_drag\",\"kind\":\"Any\",\"default\":true},{\"name\":\"state\",\"kind\":\"Any\",\"default\":[]}]},{\"type\":\"model\",\"name\":\"drag1\",\"properties\":[{\"name\":\"slider_width\",\"kind\":\"Any\",\"default\":5},{\"name\":\"slider_color\",\"kind\":\"Any\",\"default\":\"black\"},{\"name\":\"value\",\"kind\":\"Any\",\"default\":50}]},{\"type\":\"model\",\"name\":\"click1\",\"properties\":[{\"name\":\"terminal_output\",\"kind\":\"Any\",\"default\":\"\"},{\"name\":\"debug_name\",\"kind\":\"Any\",\"default\":\"\"},{\"name\":\"clears\",\"kind\":\"Any\",\"default\":0}]},{\"type\":\"model\",\"name\":\"toggle_value1\",\"properties\":[{\"name\":\"active_icons\",\"kind\":\"Any\",\"default\":{\"type\":\"map\"}},{\"name\":\"options\",\"kind\":\"Any\",\"default\":{\"type\":\"map\",\"entries\":[[\"favorite\",\"heart\"]]}},{\"name\":\"value\",\"kind\":\"Any\",\"default\":[]},{\"name\":\"_reactions\",\"kind\":\"Any\",\"default\":[]},{\"name\":\"_base_url\",\"kind\":\"Any\",\"default\":\"https://tabler-icons.io/static/tabler-icons/icons/\"}]},{\"type\":\"model\",\"name\":\"copy_to_clipboard1\",\"properties\":[{\"name\":\"value\",\"kind\":\"Any\",\"default\":null},{\"name\":\"fill\",\"kind\":\"Any\",\"default\":\"none\"}]},{\"type\":\"model\",\"name\":\"FastWrapper1\",\"properties\":[{\"name\":\"object\",\"kind\":\"Any\",\"default\":null},{\"name\":\"style\",\"kind\":\"Any\",\"default\":null}]},{\"type\":\"model\",\"name\":\"NotificationAreaBase1\",\"properties\":[{\"name\":\"js_events\",\"kind\":\"Any\",\"default\":{\"type\":\"map\"}},{\"name\":\"position\",\"kind\":\"Any\",\"default\":\"bottom-right\"},{\"name\":\"_clear\",\"kind\":\"Any\",\"default\":0}]},{\"type\":\"model\",\"name\":\"NotificationArea1\",\"properties\":[{\"name\":\"js_events\",\"kind\":\"Any\",\"default\":{\"type\":\"map\"}},{\"name\":\"notifications\",\"kind\":\"Any\",\"default\":[]},{\"name\":\"position\",\"kind\":\"Any\",\"default\":\"bottom-right\"},{\"name\":\"_clear\",\"kind\":\"Any\",\"default\":0},{\"name\":\"types\",\"kind\":\"Any\",\"default\":[{\"type\":\"map\",\"entries\":[[\"type\",\"warning\"],[\"background\",\"#ffc107\"],[\"icon\",{\"type\":\"map\",\"entries\":[[\"className\",\"fas fa-exclamation-triangle\"],[\"tagName\",\"i\"],[\"color\",\"white\"]]}]]},{\"type\":\"map\",\"entries\":[[\"type\",\"info\"],[\"background\",\"#007bff\"],[\"icon\",{\"type\":\"map\",\"entries\":[[\"className\",\"fas fa-info-circle\"],[\"tagName\",\"i\"],[\"color\",\"white\"]]}]]}]}]},{\"type\":\"model\",\"name\":\"Notification\",\"properties\":[{\"name\":\"background\",\"kind\":\"Any\",\"default\":null},{\"name\":\"duration\",\"kind\":\"Any\",\"default\":3000},{\"name\":\"icon\",\"kind\":\"Any\",\"default\":null},{\"name\":\"message\",\"kind\":\"Any\",\"default\":\"\"},{\"name\":\"notification_type\",\"kind\":\"Any\",\"default\":null},{\"name\":\"_destroyed\",\"kind\":\"Any\",\"default\":false}]},{\"type\":\"model\",\"name\":\"TemplateActions1\",\"properties\":[{\"name\":\"open_modal\",\"kind\":\"Any\",\"default\":0},{\"name\":\"close_modal\",\"kind\":\"Any\",\"default\":0}]},{\"type\":\"model\",\"name\":\"BootstrapTemplateActions1\",\"properties\":[{\"name\":\"open_modal\",\"kind\":\"Any\",\"default\":0},{\"name\":\"close_modal\",\"kind\":\"Any\",\"default\":0}]},{\"type\":\"model\",\"name\":\"MaterialTemplateActions1\",\"properties\":[{\"name\":\"open_modal\",\"kind\":\"Any\",\"default\":0},{\"name\":\"close_modal\",\"kind\":\"Any\",\"default\":0}]}]}};\n",
       "  var render_items = [{\"docid\":\"15ca4779-fe67-4a9e-9fa4-be6974ad7592\",\"roots\":{\"p1002\":\"b6e789d8-172c-492f-a680-3a3dabc915f2\"},\"root_ids\":[\"p1002\"]}];\n",
       "  var docs = Object.values(docs_json)\n",
       "  if (!docs) {\n",
       "    return\n",
       "  }\n",
       "  const py_version = docs[0].version.replace('rc', '-rc.').replace('.dev', '-dev.')\n",
       "  function embed_document(root) {\n",
       "    var Bokeh = get_bokeh(root)\n",
       "    Bokeh.embed.embed_items_notebook(docs_json, render_items);\n",
       "    for (const render_item of render_items) {\n",
       "      for (const root_id of render_item.root_ids) {\n",
       "\tconst id_el = document.getElementById(root_id)\n",
       "\tif (id_el.children.length && (id_el.children[0].className === 'bk-root')) {\n",
       "\t  const root_el = id_el.children[0]\n",
       "\t  root_el.id = root_el.id + '-rendered'\n",
       "\t}\n",
       "      }\n",
       "    }\n",
       "  }\n",
       "  function get_bokeh(root) {\n",
       "    if (root.Bokeh === undefined) {\n",
       "      return null\n",
       "    } else if (root.Bokeh.version !== py_version) {\n",
       "      if (root.Bokeh.versions === undefined || !root.Bokeh.versions.has(py_version)) {\n",
       "\treturn null\n",
       "      }\n",
       "      return root.Bokeh.versions.get(py_version);\n",
       "    } else if (root.Bokeh.version === py_version) {\n",
       "      return root.Bokeh\n",
       "    }\n",
       "    return null\n",
       "  }\n",
       "  function is_loaded(root) {\n",
       "    var Bokeh = get_bokeh(root)\n",
       "    return (Bokeh != null && Bokeh.Panel !== undefined)\n",
       "  }\n",
       "  if (is_loaded(root)) {\n",
       "    embed_document(root);\n",
       "  } else {\n",
       "    var attempts = 0;\n",
       "    var timer = setInterval(function(root) {\n",
       "      if (is_loaded(root)) {\n",
       "        clearInterval(timer);\n",
       "        embed_document(root);\n",
       "      } else if (document.readyState == \"complete\") {\n",
       "        attempts++;\n",
       "        if (attempts > 200) {\n",
       "          clearInterval(timer);\n",
       "\t  var Bokeh = get_bokeh(root)\n",
       "\t  if (Bokeh == null || Bokeh.Panel == null) {\n",
       "            console.warn(\"Panel: ERROR: Unable to run Panel code because Bokeh or Panel library is missing\");\n",
       "\t  } else {\n",
       "\t    console.warn(\"Panel: WARNING: Attempting to render but not all required libraries could be resolved.\")\n",
       "\t    embed_document(root)\n",
       "\t  }\n",
       "        }\n",
       "      }\n",
       "    }, 25, root)\n",
       "  }\n",
       "})(window);</script>"
      ]
     },
     "metadata": {
      "application/vnd.holoviews_exec.v0+json": {
       "id": "p1002"
      }
     },
     "output_type": "display_data"
    },
    {
     "data": {
      "application/javascript": "(function(root) {\n  function now() {\n    return new Date();\n  }\n\n  var force = true;\n  var py_version = '3.3.0'.replace('rc', '-rc.').replace('.dev', '-dev.');\n  var reloading = true;\n  var Bokeh = root.Bokeh;\n\n  if (typeof (root._bokeh_timeout) === \"undefined\" || force) {\n    root._bokeh_timeout = Date.now() + 5000;\n    root._bokeh_failed_load = false;\n  }\n\n  function run_callbacks() {\n    try {\n      root._bokeh_onload_callbacks.forEach(function(callback) {\n        if (callback != null)\n          callback();\n      });\n    } finally {\n      delete root._bokeh_onload_callbacks;\n    }\n    console.debug(\"Bokeh: all callbacks have finished\");\n  }\n\n  function load_libs(css_urls, js_urls, js_modules, js_exports, callback) {\n    if (css_urls == null) css_urls = [];\n    if (js_urls == null) js_urls = [];\n    if (js_modules == null) js_modules = [];\n    if (js_exports == null) js_exports = {};\n\n    root._bokeh_onload_callbacks.push(callback);\n\n    if (root._bokeh_is_loading > 0) {\n      console.debug(\"Bokeh: BokehJS is being loaded, scheduling callback at\", now());\n      return null;\n    }\n    if (js_urls.length === 0 && js_modules.length === 0 && Object.keys(js_exports).length === 0) {\n      run_callbacks();\n      return null;\n    }\n    if (!reloading) {\n      console.debug(\"Bokeh: BokehJS not loaded, scheduling load and callback at\", now());\n    }\n\n    function on_load() {\n      root._bokeh_is_loading--;\n      if (root._bokeh_is_loading === 0) {\n        console.debug(\"Bokeh: all BokehJS libraries/stylesheets loaded\");\n        run_callbacks()\n      }\n    }\n    window._bokeh_on_load = on_load\n\n    function on_error() {\n      console.error(\"failed to load \" + url);\n    }\n\n    var skip = [];\n    if (window.requirejs) {\n      window.requirejs.config({'packages': {}, 'paths': {'jspanel': 'https://cdn.jsdelivr.net/npm/jspanel4@4.12.0/dist/jspanel', 'jspanel-modal': 'https://cdn.jsdelivr.net/npm/jspanel4@4.12.0/dist/extensions/modal/jspanel.modal', 'jspanel-tooltip': 'https://cdn.jsdelivr.net/npm/jspanel4@4.12.0/dist/extensions/tooltip/jspanel.tooltip', 'jspanel-hint': 'https://cdn.jsdelivr.net/npm/jspanel4@4.12.0/dist/extensions/hint/jspanel.hint', 'jspanel-layout': 'https://cdn.jsdelivr.net/npm/jspanel4@4.12.0/dist/extensions/layout/jspanel.layout', 'jspanel-contextmenu': 'https://cdn.jsdelivr.net/npm/jspanel4@4.12.0/dist/extensions/contextmenu/jspanel.contextmenu', 'jspanel-dock': 'https://cdn.jsdelivr.net/npm/jspanel4@4.12.0/dist/extensions/dock/jspanel.dock', 'gridstack': 'https://cdn.jsdelivr.net/npm/gridstack@7.2.3/dist/gridstack-all', 'notyf': 'https://cdn.jsdelivr.net/npm/notyf@3/notyf.min'}, 'shim': {'jspanel': {'exports': 'jsPanel'}, 'gridstack': {'exports': 'GridStack'}}});\n      require([\"jspanel\"], function(jsPanel) {\n\twindow.jsPanel = jsPanel\n\ton_load()\n      })\n      require([\"jspanel-modal\"], function() {\n\ton_load()\n      })\n      require([\"jspanel-tooltip\"], function() {\n\ton_load()\n      })\n      require([\"jspanel-hint\"], function() {\n\ton_load()\n      })\n      require([\"jspanel-layout\"], function() {\n\ton_load()\n      })\n      require([\"jspanel-contextmenu\"], function() {\n\ton_load()\n      })\n      require([\"jspanel-dock\"], function() {\n\ton_load()\n      })\n      require([\"gridstack\"], function(GridStack) {\n\twindow.GridStack = GridStack\n\ton_load()\n      })\n      require([\"notyf\"], function() {\n\ton_load()\n      })\n      root._bokeh_is_loading = css_urls.length + 9;\n    } else {\n      root._bokeh_is_loading = css_urls.length + js_urls.length + js_modules.length + Object.keys(js_exports).length;\n    }\n\n    var existing_stylesheets = []\n    var links = document.getElementsByTagName('link')\n    for (var i = 0; i < links.length; i++) {\n      var link = links[i]\n      if (link.href != null) {\n\texisting_stylesheets.push(link.href)\n      }\n    }\n    for (var i = 0; i < css_urls.length; i++) {\n      var url = css_urls[i];\n      if (existing_stylesheets.indexOf(url) !== -1) {\n\ton_load()\n\tcontinue;\n      }\n      const element = document.createElement(\"link\");\n      element.onload = on_load;\n      element.onerror = on_error;\n      element.rel = \"stylesheet\";\n      element.type = \"text/css\";\n      element.href = url;\n      console.debug(\"Bokeh: injecting link tag for BokehJS stylesheet: \", url);\n      document.body.appendChild(element);\n    }    if (((window['jsPanel'] !== undefined) && (!(window['jsPanel'] instanceof HTMLElement))) || window.requirejs) {\n      var urls = ['https://cdn.holoviz.org/panel/1.3.4/dist/bundled/floatpanel/jspanel4@4.12.0/dist/jspanel.js', 'https://cdn.holoviz.org/panel/1.3.4/dist/bundled/floatpanel/jspanel4@4.12.0/dist/extensions/modal/jspanel.modal.js', 'https://cdn.holoviz.org/panel/1.3.4/dist/bundled/floatpanel/jspanel4@4.12.0/dist/extensions/tooltip/jspanel.tooltip.js', 'https://cdn.holoviz.org/panel/1.3.4/dist/bundled/floatpanel/jspanel4@4.12.0/dist/extensions/hint/jspanel.hint.js', 'https://cdn.holoviz.org/panel/1.3.4/dist/bundled/floatpanel/jspanel4@4.12.0/dist/extensions/layout/jspanel.layout.js', 'https://cdn.holoviz.org/panel/1.3.4/dist/bundled/floatpanel/jspanel4@4.12.0/dist/extensions/contextmenu/jspanel.contextmenu.js', 'https://cdn.holoviz.org/panel/1.3.4/dist/bundled/floatpanel/jspanel4@4.12.0/dist/extensions/dock/jspanel.dock.js'];\n      for (var i = 0; i < urls.length; i++) {\n        skip.push(urls[i])\n      }\n    }    if (((window['GridStack'] !== undefined) && (!(window['GridStack'] instanceof HTMLElement))) || window.requirejs) {\n      var urls = ['https://cdn.holoviz.org/panel/1.3.4/dist/bundled/gridstack/gridstack@7.2.3/dist/gridstack-all.js'];\n      for (var i = 0; i < urls.length; i++) {\n        skip.push(urls[i])\n      }\n    }    if (((window['Notyf'] !== undefined) && (!(window['Notyf'] instanceof HTMLElement))) || window.requirejs) {\n      var urls = ['https://cdn.holoviz.org/panel/1.3.4/dist/bundled/notificationarea/notyf@3/notyf.min.js'];\n      for (var i = 0; i < urls.length; i++) {\n        skip.push(urls[i])\n      }\n    }    var existing_scripts = []\n    var scripts = document.getElementsByTagName('script')\n    for (var i = 0; i < scripts.length; i++) {\n      var script = scripts[i]\n      if (script.src != null) {\n\texisting_scripts.push(script.src)\n      }\n    }\n    for (var i = 0; i < js_urls.length; i++) {\n      var url = js_urls[i];\n      if (skip.indexOf(url) !== -1 || existing_scripts.indexOf(url) !== -1) {\n\tif (!window.requirejs) {\n\t  on_load();\n\t}\n\tcontinue;\n      }\n      var element = document.createElement('script');\n      element.onload = on_load;\n      element.onerror = on_error;\n      element.async = false;\n      element.src = url;\n      console.debug(\"Bokeh: injecting script tag for BokehJS library: \", url);\n      document.head.appendChild(element);\n    }\n    for (var i = 0; i < js_modules.length; i++) {\n      var url = js_modules[i];\n      if (skip.indexOf(url) !== -1 || existing_scripts.indexOf(url) !== -1) {\n\tif (!window.requirejs) {\n\t  on_load();\n\t}\n\tcontinue;\n      }\n      var element = document.createElement('script');\n      element.onload = on_load;\n      element.onerror = on_error;\n      element.async = false;\n      element.src = url;\n      element.type = \"module\";\n      console.debug(\"Bokeh: injecting script tag for BokehJS library: \", url);\n      document.head.appendChild(element);\n    }\n    for (const name in js_exports) {\n      var url = js_exports[name];\n      if (skip.indexOf(url) >= 0 || root[name] != null) {\n\tif (!window.requirejs) {\n\t  on_load();\n\t}\n\tcontinue;\n      }\n      var element = document.createElement('script');\n      element.onerror = on_error;\n      element.async = false;\n      element.type = \"module\";\n      console.debug(\"Bokeh: injecting script tag for BokehJS library: \", url);\n      element.textContent = `\n      import ${name} from \"${url}\"\n      window.${name} = ${name}\n      window._bokeh_on_load()\n      `\n      document.head.appendChild(element);\n    }\n    if (!js_urls.length && !js_modules.length) {\n      on_load()\n    }\n  };\n\n  function inject_raw_css(css) {\n    const element = document.createElement(\"style\");\n    element.appendChild(document.createTextNode(css));\n    document.body.appendChild(element);\n  }\n\n  var js_urls = [\"https://cdn.jsdelivr.net/npm/@holoviz/geoviews@1.11.0/dist/geoviews.min.js\"];\n  var js_modules = [];\n  var js_exports = {};\n  var css_urls = [];\n  var inline_js = [    function(Bokeh) {\n      Bokeh.set_log_level(\"info\");\n    },\nfunction(Bokeh) {} // ensure no trailing comma for IE\n  ];\n\n  function run_inline_js() {\n    if ((root.Bokeh !== undefined) || (force === true)) {\n      for (var i = 0; i < inline_js.length; i++) {\n\ttry {\n          inline_js[i].call(root, root.Bokeh);\n\t} catch(e) {\n\t  if (!reloading) {\n\t    throw e;\n\t  }\n\t}\n      }\n      // Cache old bokeh versions\n      if (Bokeh != undefined && !reloading) {\n\tvar NewBokeh = root.Bokeh;\n\tif (Bokeh.versions === undefined) {\n\t  Bokeh.versions = new Map();\n\t}\n\tif (NewBokeh.version !== Bokeh.version) {\n\t  Bokeh.versions.set(NewBokeh.version, NewBokeh)\n\t}\n\troot.Bokeh = Bokeh;\n      }} else if (Date.now() < root._bokeh_timeout) {\n      setTimeout(run_inline_js, 100);\n    } else if (!root._bokeh_failed_load) {\n      console.log(\"Bokeh: BokehJS failed to load within specified timeout.\");\n      root._bokeh_failed_load = true;\n    }\n    root._bokeh_is_initializing = false\n  }\n\n  function load_or_wait() {\n    // Implement a backoff loop that tries to ensure we do not load multiple\n    // versions of Bokeh and its dependencies at the same time.\n    // In recent versions we use the root._bokeh_is_initializing flag\n    // to determine whether there is an ongoing attempt to initialize\n    // bokeh, however for backward compatibility we also try to ensure\n    // that we do not start loading a newer (Panel>=1.0 and Bokeh>3) version\n    // before older versions are fully initialized.\n    if (root._bokeh_is_initializing && Date.now() > root._bokeh_timeout) {\n      root._bokeh_is_initializing = false;\n      root._bokeh_onload_callbacks = undefined;\n      console.log(\"Bokeh: BokehJS was loaded multiple times but one version failed to initialize.\");\n      load_or_wait();\n    } else if (root._bokeh_is_initializing || (typeof root._bokeh_is_initializing === \"undefined\" && root._bokeh_onload_callbacks !== undefined)) {\n      setTimeout(load_or_wait, 100);\n    } else {\n      root._bokeh_is_initializing = true\n      root._bokeh_onload_callbacks = []\n      var bokeh_loaded = Bokeh != null && (Bokeh.version === py_version || (Bokeh.versions !== undefined && Bokeh.versions.has(py_version)));\n      if (!reloading && !bokeh_loaded) {\n\troot.Bokeh = undefined;\n      }\n      load_libs(css_urls, js_urls, js_modules, js_exports, function() {\n\tconsole.debug(\"Bokeh: BokehJS plotting callback run at\", now());\n\trun_inline_js();\n      });\n    }\n  }\n  // Give older versions of the autoload script a head-start to ensure\n  // they initialize before we start loading newer version.\n  setTimeout(load_or_wait, 100)\n}(window));",
      "application/vnd.holoviews_load.v0+json": ""
     },
     "metadata": {},
     "output_type": "display_data"
    },
    {
     "data": {
      "application/javascript": "\nif ((window.PyViz === undefined) || (window.PyViz instanceof HTMLElement)) {\n  window.PyViz = {comms: {}, comm_status:{}, kernels:{}, receivers: {}, plot_index: []}\n}\n\n\n    function JupyterCommManager() {\n    }\n\n    JupyterCommManager.prototype.register_target = function(plot_id, comm_id, msg_handler) {\n      if (window.comm_manager || ((window.Jupyter !== undefined) && (Jupyter.notebook.kernel != null))) {\n        var comm_manager = window.comm_manager || Jupyter.notebook.kernel.comm_manager;\n        comm_manager.register_target(comm_id, function(comm) {\n          comm.on_msg(msg_handler);\n        });\n      } else if ((plot_id in window.PyViz.kernels) && (window.PyViz.kernels[plot_id])) {\n        window.PyViz.kernels[plot_id].registerCommTarget(comm_id, function(comm) {\n          comm.onMsg = msg_handler;\n        });\n      } else if (typeof google != 'undefined' && google.colab.kernel != null) {\n        google.colab.kernel.comms.registerTarget(comm_id, (comm) => {\n          var messages = comm.messages[Symbol.asyncIterator]();\n          function processIteratorResult(result) {\n            var message = result.value;\n            console.log(message)\n            var content = {data: message.data, comm_id};\n            var buffers = []\n            for (var buffer of message.buffers || []) {\n              buffers.push(new DataView(buffer))\n            }\n            var metadata = message.metadata || {};\n            var msg = {content, buffers, metadata}\n            msg_handler(msg);\n            return messages.next().then(processIteratorResult);\n          }\n          return messages.next().then(processIteratorResult);\n        })\n      }\n    }\n\n    JupyterCommManager.prototype.get_client_comm = function(plot_id, comm_id, msg_handler) {\n      if (comm_id in window.PyViz.comms) {\n        return window.PyViz.comms[comm_id];\n      } else if (window.comm_manager || ((window.Jupyter !== undefined) && (Jupyter.notebook.kernel != null))) {\n        var comm_manager = window.comm_manager || Jupyter.notebook.kernel.comm_manager;\n        var comm = comm_manager.new_comm(comm_id, {}, {}, {}, comm_id);\n        if (msg_handler) {\n          comm.on_msg(msg_handler);\n        }\n      } else if ((plot_id in window.PyViz.kernels) && (window.PyViz.kernels[plot_id])) {\n        var comm = window.PyViz.kernels[plot_id].connectToComm(comm_id);\n        comm.open();\n        if (msg_handler) {\n          comm.onMsg = msg_handler;\n        }\n      } else if (typeof google != 'undefined' && google.colab.kernel != null) {\n        var comm_promise = google.colab.kernel.comms.open(comm_id)\n        comm_promise.then((comm) => {\n          window.PyViz.comms[comm_id] = comm;\n          if (msg_handler) {\n            var messages = comm.messages[Symbol.asyncIterator]();\n            function processIteratorResult(result) {\n              var message = result.value;\n              var content = {data: message.data};\n              var metadata = message.metadata || {comm_id};\n              var msg = {content, metadata}\n              msg_handler(msg);\n              return messages.next().then(processIteratorResult);\n            }\n            return messages.next().then(processIteratorResult);\n          }\n        }) \n        var sendClosure = (data, metadata, buffers, disposeOnDone) => {\n          return comm_promise.then((comm) => {\n            comm.send(data, metadata, buffers, disposeOnDone);\n          });\n        };\n        var comm = {\n          send: sendClosure\n        };\n      }\n      window.PyViz.comms[comm_id] = comm;\n      return comm;\n    }\n    window.PyViz.comm_manager = new JupyterCommManager();\n    \n\n\nvar JS_MIME_TYPE = 'application/javascript';\nvar HTML_MIME_TYPE = 'text/html';\nvar EXEC_MIME_TYPE = 'application/vnd.holoviews_exec.v0+json';\nvar CLASS_NAME = 'output';\n\n/**\n * Render data to the DOM node\n */\nfunction render(props, node) {\n  var div = document.createElement(\"div\");\n  var script = document.createElement(\"script\");\n  node.appendChild(div);\n  node.appendChild(script);\n}\n\n/**\n * Handle when a new output is added\n */\nfunction handle_add_output(event, handle) {\n  var output_area = handle.output_area;\n  var output = handle.output;\n  if ((output.data == undefined) || (!output.data.hasOwnProperty(EXEC_MIME_TYPE))) {\n    return\n  }\n  var id = output.metadata[EXEC_MIME_TYPE][\"id\"];\n  var toinsert = output_area.element.find(\".\" + CLASS_NAME.split(' ')[0]);\n  if (id !== undefined) {\n    var nchildren = toinsert.length;\n    var html_node = toinsert[nchildren-1].children[0];\n    html_node.innerHTML = output.data[HTML_MIME_TYPE];\n    var scripts = [];\n    var nodelist = html_node.querySelectorAll(\"script\");\n    for (var i in nodelist) {\n      if (nodelist.hasOwnProperty(i)) {\n        scripts.push(nodelist[i])\n      }\n    }\n\n    scripts.forEach( function (oldScript) {\n      var newScript = document.createElement(\"script\");\n      var attrs = [];\n      var nodemap = oldScript.attributes;\n      for (var j in nodemap) {\n        if (nodemap.hasOwnProperty(j)) {\n          attrs.push(nodemap[j])\n        }\n      }\n      attrs.forEach(function(attr) { newScript.setAttribute(attr.name, attr.value) });\n      newScript.appendChild(document.createTextNode(oldScript.innerHTML));\n      oldScript.parentNode.replaceChild(newScript, oldScript);\n    });\n    if (JS_MIME_TYPE in output.data) {\n      toinsert[nchildren-1].children[1].textContent = output.data[JS_MIME_TYPE];\n    }\n    output_area._hv_plot_id = id;\n    if ((window.Bokeh !== undefined) && (id in Bokeh.index)) {\n      window.PyViz.plot_index[id] = Bokeh.index[id];\n    } else {\n      window.PyViz.plot_index[id] = null;\n    }\n  } else if (output.metadata[EXEC_MIME_TYPE][\"server_id\"] !== undefined) {\n    var bk_div = document.createElement(\"div\");\n    bk_div.innerHTML = output.data[HTML_MIME_TYPE];\n    var script_attrs = bk_div.children[0].attributes;\n    for (var i = 0; i < script_attrs.length; i++) {\n      toinsert[toinsert.length - 1].childNodes[1].setAttribute(script_attrs[i].name, script_attrs[i].value);\n    }\n    // store reference to server id on output_area\n    output_area._bokeh_server_id = output.metadata[EXEC_MIME_TYPE][\"server_id\"];\n  }\n}\n\n/**\n * Handle when an output is cleared or removed\n */\nfunction handle_clear_output(event, handle) {\n  var id = handle.cell.output_area._hv_plot_id;\n  var server_id = handle.cell.output_area._bokeh_server_id;\n  if (((id === undefined) || !(id in PyViz.plot_index)) && (server_id !== undefined)) { return; }\n  var comm = window.PyViz.comm_manager.get_client_comm(\"hv-extension-comm\", \"hv-extension-comm\", function () {});\n  if (server_id !== null) {\n    comm.send({event_type: 'server_delete', 'id': server_id});\n    return;\n  } else if (comm !== null) {\n    comm.send({event_type: 'delete', 'id': id});\n  }\n  delete PyViz.plot_index[id];\n  if ((window.Bokeh !== undefined) & (id in window.Bokeh.index)) {\n    var doc = window.Bokeh.index[id].model.document\n    doc.clear();\n    const i = window.Bokeh.documents.indexOf(doc);\n    if (i > -1) {\n      window.Bokeh.documents.splice(i, 1);\n    }\n  }\n}\n\n/**\n * Handle kernel restart event\n */\nfunction handle_kernel_cleanup(event, handle) {\n  delete PyViz.comms[\"hv-extension-comm\"];\n  window.PyViz.plot_index = {}\n}\n\n/**\n * Handle update_display_data messages\n */\nfunction handle_update_output(event, handle) {\n  handle_clear_output(event, {cell: {output_area: handle.output_area}})\n  handle_add_output(event, handle)\n}\n\nfunction register_renderer(events, OutputArea) {\n  function append_mime(data, metadata, element) {\n    // create a DOM node to render to\n    var toinsert = this.create_output_subarea(\n    metadata,\n    CLASS_NAME,\n    EXEC_MIME_TYPE\n    );\n    this.keyboard_manager.register_events(toinsert);\n    // Render to node\n    var props = {data: data, metadata: metadata[EXEC_MIME_TYPE]};\n    render(props, toinsert[0]);\n    element.append(toinsert);\n    return toinsert\n  }\n\n  events.on('output_added.OutputArea', handle_add_output);\n  events.on('output_updated.OutputArea', handle_update_output);\n  events.on('clear_output.CodeCell', handle_clear_output);\n  events.on('delete.Cell', handle_clear_output);\n  events.on('kernel_ready.Kernel', handle_kernel_cleanup);\n\n  OutputArea.prototype.register_mime_type(EXEC_MIME_TYPE, append_mime, {\n    safe: true,\n    index: 0\n  });\n}\n\nif (window.Jupyter !== undefined) {\n  try {\n    var events = require('base/js/events');\n    var OutputArea = require('notebook/js/outputarea').OutputArea;\n    if (OutputArea.prototype.mime_types().indexOf(EXEC_MIME_TYPE) == -1) {\n      register_renderer(events, OutputArea);\n    }\n  } catch(err) {\n  }\n}\n",
      "application/vnd.holoviews_load.v0+json": ""
     },
     "metadata": {},
     "output_type": "display_data"
    },
    {
     "data": {
      "text/html": [
       "<style>*[data-root-id],\n",
       "*[data-root-id] > * {\n",
       "  box-sizing: border-box;\n",
       "  font-family: var(--jp-ui-font-family);\n",
       "  font-size: var(--jp-ui-font-size1);\n",
       "  color: var(--vscode-editor-foreground, var(--jp-ui-font-color1));\n",
       "}\n",
       "\n",
       "/* Override VSCode background color */\n",
       ".cell-output-ipywidget-background:has(\n",
       "    > .cell-output-ipywidget-background > .lm-Widget > *[data-root-id]\n",
       "  ),\n",
       ".cell-output-ipywidget-background:has(> .lm-Widget > *[data-root-id]) {\n",
       "  background-color: transparent !important;\n",
       "}\n",
       "</style>"
      ]
     },
     "metadata": {},
     "output_type": "display_data"
    },
    {
     "data": {
      "application/javascript": "(function(root) {\n  function now() {\n    return new Date();\n  }\n\n  var force = true;\n  var py_version = '3.3.0'.replace('rc', '-rc.').replace('.dev', '-dev.');\n  var reloading = true;\n  var Bokeh = root.Bokeh;\n\n  if (typeof (root._bokeh_timeout) === \"undefined\" || force) {\n    root._bokeh_timeout = Date.now() + 5000;\n    root._bokeh_failed_load = false;\n  }\n\n  function run_callbacks() {\n    try {\n      root._bokeh_onload_callbacks.forEach(function(callback) {\n        if (callback != null)\n          callback();\n      });\n    } finally {\n      delete root._bokeh_onload_callbacks;\n    }\n    console.debug(\"Bokeh: all callbacks have finished\");\n  }\n\n  function load_libs(css_urls, js_urls, js_modules, js_exports, callback) {\n    if (css_urls == null) css_urls = [];\n    if (js_urls == null) js_urls = [];\n    if (js_modules == null) js_modules = [];\n    if (js_exports == null) js_exports = {};\n\n    root._bokeh_onload_callbacks.push(callback);\n\n    if (root._bokeh_is_loading > 0) {\n      console.debug(\"Bokeh: BokehJS is being loaded, scheduling callback at\", now());\n      return null;\n    }\n    if (js_urls.length === 0 && js_modules.length === 0 && Object.keys(js_exports).length === 0) {\n      run_callbacks();\n      return null;\n    }\n    if (!reloading) {\n      console.debug(\"Bokeh: BokehJS not loaded, scheduling load and callback at\", now());\n    }\n\n    function on_load() {\n      root._bokeh_is_loading--;\n      if (root._bokeh_is_loading === 0) {\n        console.debug(\"Bokeh: all BokehJS libraries/stylesheets loaded\");\n        run_callbacks()\n      }\n    }\n    window._bokeh_on_load = on_load\n\n    function on_error() {\n      console.error(\"failed to load \" + url);\n    }\n\n    var skip = [];\n    if (window.requirejs) {\n      window.requirejs.config({'packages': {}, 'paths': {'jspanel': 'https://cdn.jsdelivr.net/npm/jspanel4@4.12.0/dist/jspanel', 'jspanel-modal': 'https://cdn.jsdelivr.net/npm/jspanel4@4.12.0/dist/extensions/modal/jspanel.modal', 'jspanel-tooltip': 'https://cdn.jsdelivr.net/npm/jspanel4@4.12.0/dist/extensions/tooltip/jspanel.tooltip', 'jspanel-hint': 'https://cdn.jsdelivr.net/npm/jspanel4@4.12.0/dist/extensions/hint/jspanel.hint', 'jspanel-layout': 'https://cdn.jsdelivr.net/npm/jspanel4@4.12.0/dist/extensions/layout/jspanel.layout', 'jspanel-contextmenu': 'https://cdn.jsdelivr.net/npm/jspanel4@4.12.0/dist/extensions/contextmenu/jspanel.contextmenu', 'jspanel-dock': 'https://cdn.jsdelivr.net/npm/jspanel4@4.12.0/dist/extensions/dock/jspanel.dock', 'gridstack': 'https://cdn.jsdelivr.net/npm/gridstack@7.2.3/dist/gridstack-all', 'notyf': 'https://cdn.jsdelivr.net/npm/notyf@3/notyf.min'}, 'shim': {'jspanel': {'exports': 'jsPanel'}, 'gridstack': {'exports': 'GridStack'}}});\n      require([\"jspanel\"], function(jsPanel) {\n\twindow.jsPanel = jsPanel\n\ton_load()\n      })\n      require([\"jspanel-modal\"], function() {\n\ton_load()\n      })\n      require([\"jspanel-tooltip\"], function() {\n\ton_load()\n      })\n      require([\"jspanel-hint\"], function() {\n\ton_load()\n      })\n      require([\"jspanel-layout\"], function() {\n\ton_load()\n      })\n      require([\"jspanel-contextmenu\"], function() {\n\ton_load()\n      })\n      require([\"jspanel-dock\"], function() {\n\ton_load()\n      })\n      require([\"gridstack\"], function(GridStack) {\n\twindow.GridStack = GridStack\n\ton_load()\n      })\n      require([\"notyf\"], function() {\n\ton_load()\n      })\n      root._bokeh_is_loading = css_urls.length + 9;\n    } else {\n      root._bokeh_is_loading = css_urls.length + js_urls.length + js_modules.length + Object.keys(js_exports).length;\n    }\n\n    var existing_stylesheets = []\n    var links = document.getElementsByTagName('link')\n    for (var i = 0; i < links.length; i++) {\n      var link = links[i]\n      if (link.href != null) {\n\texisting_stylesheets.push(link.href)\n      }\n    }\n    for (var i = 0; i < css_urls.length; i++) {\n      var url = css_urls[i];\n      if (existing_stylesheets.indexOf(url) !== -1) {\n\ton_load()\n\tcontinue;\n      }\n      const element = document.createElement(\"link\");\n      element.onload = on_load;\n      element.onerror = on_error;\n      element.rel = \"stylesheet\";\n      element.type = \"text/css\";\n      element.href = url;\n      console.debug(\"Bokeh: injecting link tag for BokehJS stylesheet: \", url);\n      document.body.appendChild(element);\n    }    if (((window['jsPanel'] !== undefined) && (!(window['jsPanel'] instanceof HTMLElement))) || window.requirejs) {\n      var urls = ['https://cdn.holoviz.org/panel/1.3.4/dist/bundled/floatpanel/jspanel4@4.12.0/dist/jspanel.js', 'https://cdn.holoviz.org/panel/1.3.4/dist/bundled/floatpanel/jspanel4@4.12.0/dist/extensions/modal/jspanel.modal.js', 'https://cdn.holoviz.org/panel/1.3.4/dist/bundled/floatpanel/jspanel4@4.12.0/dist/extensions/tooltip/jspanel.tooltip.js', 'https://cdn.holoviz.org/panel/1.3.4/dist/bundled/floatpanel/jspanel4@4.12.0/dist/extensions/hint/jspanel.hint.js', 'https://cdn.holoviz.org/panel/1.3.4/dist/bundled/floatpanel/jspanel4@4.12.0/dist/extensions/layout/jspanel.layout.js', 'https://cdn.holoviz.org/panel/1.3.4/dist/bundled/floatpanel/jspanel4@4.12.0/dist/extensions/contextmenu/jspanel.contextmenu.js', 'https://cdn.holoviz.org/panel/1.3.4/dist/bundled/floatpanel/jspanel4@4.12.0/dist/extensions/dock/jspanel.dock.js'];\n      for (var i = 0; i < urls.length; i++) {\n        skip.push(urls[i])\n      }\n    }    if (((window['GridStack'] !== undefined) && (!(window['GridStack'] instanceof HTMLElement))) || window.requirejs) {\n      var urls = ['https://cdn.holoviz.org/panel/1.3.4/dist/bundled/gridstack/gridstack@7.2.3/dist/gridstack-all.js'];\n      for (var i = 0; i < urls.length; i++) {\n        skip.push(urls[i])\n      }\n    }    if (((window['Notyf'] !== undefined) && (!(window['Notyf'] instanceof HTMLElement))) || window.requirejs) {\n      var urls = ['https://cdn.holoviz.org/panel/1.3.4/dist/bundled/notificationarea/notyf@3/notyf.min.js'];\n      for (var i = 0; i < urls.length; i++) {\n        skip.push(urls[i])\n      }\n    }    var existing_scripts = []\n    var scripts = document.getElementsByTagName('script')\n    for (var i = 0; i < scripts.length; i++) {\n      var script = scripts[i]\n      if (script.src != null) {\n\texisting_scripts.push(script.src)\n      }\n    }\n    for (var i = 0; i < js_urls.length; i++) {\n      var url = js_urls[i];\n      if (skip.indexOf(url) !== -1 || existing_scripts.indexOf(url) !== -1) {\n\tif (!window.requirejs) {\n\t  on_load();\n\t}\n\tcontinue;\n      }\n      var element = document.createElement('script');\n      element.onload = on_load;\n      element.onerror = on_error;\n      element.async = false;\n      element.src = url;\n      console.debug(\"Bokeh: injecting script tag for BokehJS library: \", url);\n      document.head.appendChild(element);\n    }\n    for (var i = 0; i < js_modules.length; i++) {\n      var url = js_modules[i];\n      if (skip.indexOf(url) !== -1 || existing_scripts.indexOf(url) !== -1) {\n\tif (!window.requirejs) {\n\t  on_load();\n\t}\n\tcontinue;\n      }\n      var element = document.createElement('script');\n      element.onload = on_load;\n      element.onerror = on_error;\n      element.async = false;\n      element.src = url;\n      element.type = \"module\";\n      console.debug(\"Bokeh: injecting script tag for BokehJS library: \", url);\n      document.head.appendChild(element);\n    }\n    for (const name in js_exports) {\n      var url = js_exports[name];\n      if (skip.indexOf(url) >= 0 || root[name] != null) {\n\tif (!window.requirejs) {\n\t  on_load();\n\t}\n\tcontinue;\n      }\n      var element = document.createElement('script');\n      element.onerror = on_error;\n      element.async = false;\n      element.type = \"module\";\n      console.debug(\"Bokeh: injecting script tag for BokehJS library: \", url);\n      element.textContent = `\n      import ${name} from \"${url}\"\n      window.${name} = ${name}\n      window._bokeh_on_load()\n      `\n      document.head.appendChild(element);\n    }\n    if (!js_urls.length && !js_modules.length) {\n      on_load()\n    }\n  };\n\n  function inject_raw_css(css) {\n    const element = document.createElement(\"style\");\n    element.appendChild(document.createTextNode(css));\n    document.body.appendChild(element);\n  }\n\n  var js_urls = [\"https://cdn.jsdelivr.net/npm/@holoviz/geoviews@1.11.0/dist/geoviews.min.js\"];\n  var js_modules = [];\n  var js_exports = {};\n  var css_urls = [];\n  var inline_js = [    function(Bokeh) {\n      Bokeh.set_log_level(\"info\");\n    },\nfunction(Bokeh) {} // ensure no trailing comma for IE\n  ];\n\n  function run_inline_js() {\n    if ((root.Bokeh !== undefined) || (force === true)) {\n      for (var i = 0; i < inline_js.length; i++) {\n\ttry {\n          inline_js[i].call(root, root.Bokeh);\n\t} catch(e) {\n\t  if (!reloading) {\n\t    throw e;\n\t  }\n\t}\n      }\n      // Cache old bokeh versions\n      if (Bokeh != undefined && !reloading) {\n\tvar NewBokeh = root.Bokeh;\n\tif (Bokeh.versions === undefined) {\n\t  Bokeh.versions = new Map();\n\t}\n\tif (NewBokeh.version !== Bokeh.version) {\n\t  Bokeh.versions.set(NewBokeh.version, NewBokeh)\n\t}\n\troot.Bokeh = Bokeh;\n      }} else if (Date.now() < root._bokeh_timeout) {\n      setTimeout(run_inline_js, 100);\n    } else if (!root._bokeh_failed_load) {\n      console.log(\"Bokeh: BokehJS failed to load within specified timeout.\");\n      root._bokeh_failed_load = true;\n    }\n    root._bokeh_is_initializing = false\n  }\n\n  function load_or_wait() {\n    // Implement a backoff loop that tries to ensure we do not load multiple\n    // versions of Bokeh and its dependencies at the same time.\n    // In recent versions we use the root._bokeh_is_initializing flag\n    // to determine whether there is an ongoing attempt to initialize\n    // bokeh, however for backward compatibility we also try to ensure\n    // that we do not start loading a newer (Panel>=1.0 and Bokeh>3) version\n    // before older versions are fully initialized.\n    if (root._bokeh_is_initializing && Date.now() > root._bokeh_timeout) {\n      root._bokeh_is_initializing = false;\n      root._bokeh_onload_callbacks = undefined;\n      console.log(\"Bokeh: BokehJS was loaded multiple times but one version failed to initialize.\");\n      load_or_wait();\n    } else if (root._bokeh_is_initializing || (typeof root._bokeh_is_initializing === \"undefined\" && root._bokeh_onload_callbacks !== undefined)) {\n      setTimeout(load_or_wait, 100);\n    } else {\n      root._bokeh_is_initializing = true\n      root._bokeh_onload_callbacks = []\n      var bokeh_loaded = Bokeh != null && (Bokeh.version === py_version || (Bokeh.versions !== undefined && Bokeh.versions.has(py_version)));\n      if (!reloading && !bokeh_loaded) {\n\troot.Bokeh = undefined;\n      }\n      load_libs(css_urls, js_urls, js_modules, js_exports, function() {\n\tconsole.debug(\"Bokeh: BokehJS plotting callback run at\", now());\n\trun_inline_js();\n      });\n    }\n  }\n  // Give older versions of the autoload script a head-start to ensure\n  // they initialize before we start loading newer version.\n  setTimeout(load_or_wait, 100)\n}(window));",
      "application/vnd.holoviews_load.v0+json": ""
     },
     "metadata": {},
     "output_type": "display_data"
    },
    {
     "data": {
      "application/javascript": "\nif ((window.PyViz === undefined) || (window.PyViz instanceof HTMLElement)) {\n  window.PyViz = {comms: {}, comm_status:{}, kernels:{}, receivers: {}, plot_index: []}\n}\n\n\n    function JupyterCommManager() {\n    }\n\n    JupyterCommManager.prototype.register_target = function(plot_id, comm_id, msg_handler) {\n      if (window.comm_manager || ((window.Jupyter !== undefined) && (Jupyter.notebook.kernel != null))) {\n        var comm_manager = window.comm_manager || Jupyter.notebook.kernel.comm_manager;\n        comm_manager.register_target(comm_id, function(comm) {\n          comm.on_msg(msg_handler);\n        });\n      } else if ((plot_id in window.PyViz.kernels) && (window.PyViz.kernels[plot_id])) {\n        window.PyViz.kernels[plot_id].registerCommTarget(comm_id, function(comm) {\n          comm.onMsg = msg_handler;\n        });\n      } else if (typeof google != 'undefined' && google.colab.kernel != null) {\n        google.colab.kernel.comms.registerTarget(comm_id, (comm) => {\n          var messages = comm.messages[Symbol.asyncIterator]();\n          function processIteratorResult(result) {\n            var message = result.value;\n            console.log(message)\n            var content = {data: message.data, comm_id};\n            var buffers = []\n            for (var buffer of message.buffers || []) {\n              buffers.push(new DataView(buffer))\n            }\n            var metadata = message.metadata || {};\n            var msg = {content, buffers, metadata}\n            msg_handler(msg);\n            return messages.next().then(processIteratorResult);\n          }\n          return messages.next().then(processIteratorResult);\n        })\n      }\n    }\n\n    JupyterCommManager.prototype.get_client_comm = function(plot_id, comm_id, msg_handler) {\n      if (comm_id in window.PyViz.comms) {\n        return window.PyViz.comms[comm_id];\n      } else if (window.comm_manager || ((window.Jupyter !== undefined) && (Jupyter.notebook.kernel != null))) {\n        var comm_manager = window.comm_manager || Jupyter.notebook.kernel.comm_manager;\n        var comm = comm_manager.new_comm(comm_id, {}, {}, {}, comm_id);\n        if (msg_handler) {\n          comm.on_msg(msg_handler);\n        }\n      } else if ((plot_id in window.PyViz.kernels) && (window.PyViz.kernels[plot_id])) {\n        var comm = window.PyViz.kernels[plot_id].connectToComm(comm_id);\n        comm.open();\n        if (msg_handler) {\n          comm.onMsg = msg_handler;\n        }\n      } else if (typeof google != 'undefined' && google.colab.kernel != null) {\n        var comm_promise = google.colab.kernel.comms.open(comm_id)\n        comm_promise.then((comm) => {\n          window.PyViz.comms[comm_id] = comm;\n          if (msg_handler) {\n            var messages = comm.messages[Symbol.asyncIterator]();\n            function processIteratorResult(result) {\n              var message = result.value;\n              var content = {data: message.data};\n              var metadata = message.metadata || {comm_id};\n              var msg = {content, metadata}\n              msg_handler(msg);\n              return messages.next().then(processIteratorResult);\n            }\n            return messages.next().then(processIteratorResult);\n          }\n        }) \n        var sendClosure = (data, metadata, buffers, disposeOnDone) => {\n          return comm_promise.then((comm) => {\n            comm.send(data, metadata, buffers, disposeOnDone);\n          });\n        };\n        var comm = {\n          send: sendClosure\n        };\n      }\n      window.PyViz.comms[comm_id] = comm;\n      return comm;\n    }\n    window.PyViz.comm_manager = new JupyterCommManager();\n    \n\n\nvar JS_MIME_TYPE = 'application/javascript';\nvar HTML_MIME_TYPE = 'text/html';\nvar EXEC_MIME_TYPE = 'application/vnd.holoviews_exec.v0+json';\nvar CLASS_NAME = 'output';\n\n/**\n * Render data to the DOM node\n */\nfunction render(props, node) {\n  var div = document.createElement(\"div\");\n  var script = document.createElement(\"script\");\n  node.appendChild(div);\n  node.appendChild(script);\n}\n\n/**\n * Handle when a new output is added\n */\nfunction handle_add_output(event, handle) {\n  var output_area = handle.output_area;\n  var output = handle.output;\n  if ((output.data == undefined) || (!output.data.hasOwnProperty(EXEC_MIME_TYPE))) {\n    return\n  }\n  var id = output.metadata[EXEC_MIME_TYPE][\"id\"];\n  var toinsert = output_area.element.find(\".\" + CLASS_NAME.split(' ')[0]);\n  if (id !== undefined) {\n    var nchildren = toinsert.length;\n    var html_node = toinsert[nchildren-1].children[0];\n    html_node.innerHTML = output.data[HTML_MIME_TYPE];\n    var scripts = [];\n    var nodelist = html_node.querySelectorAll(\"script\");\n    for (var i in nodelist) {\n      if (nodelist.hasOwnProperty(i)) {\n        scripts.push(nodelist[i])\n      }\n    }\n\n    scripts.forEach( function (oldScript) {\n      var newScript = document.createElement(\"script\");\n      var attrs = [];\n      var nodemap = oldScript.attributes;\n      for (var j in nodemap) {\n        if (nodemap.hasOwnProperty(j)) {\n          attrs.push(nodemap[j])\n        }\n      }\n      attrs.forEach(function(attr) { newScript.setAttribute(attr.name, attr.value) });\n      newScript.appendChild(document.createTextNode(oldScript.innerHTML));\n      oldScript.parentNode.replaceChild(newScript, oldScript);\n    });\n    if (JS_MIME_TYPE in output.data) {\n      toinsert[nchildren-1].children[1].textContent = output.data[JS_MIME_TYPE];\n    }\n    output_area._hv_plot_id = id;\n    if ((window.Bokeh !== undefined) && (id in Bokeh.index)) {\n      window.PyViz.plot_index[id] = Bokeh.index[id];\n    } else {\n      window.PyViz.plot_index[id] = null;\n    }\n  } else if (output.metadata[EXEC_MIME_TYPE][\"server_id\"] !== undefined) {\n    var bk_div = document.createElement(\"div\");\n    bk_div.innerHTML = output.data[HTML_MIME_TYPE];\n    var script_attrs = bk_div.children[0].attributes;\n    for (var i = 0; i < script_attrs.length; i++) {\n      toinsert[toinsert.length - 1].childNodes[1].setAttribute(script_attrs[i].name, script_attrs[i].value);\n    }\n    // store reference to server id on output_area\n    output_area._bokeh_server_id = output.metadata[EXEC_MIME_TYPE][\"server_id\"];\n  }\n}\n\n/**\n * Handle when an output is cleared or removed\n */\nfunction handle_clear_output(event, handle) {\n  var id = handle.cell.output_area._hv_plot_id;\n  var server_id = handle.cell.output_area._bokeh_server_id;\n  if (((id === undefined) || !(id in PyViz.plot_index)) && (server_id !== undefined)) { return; }\n  var comm = window.PyViz.comm_manager.get_client_comm(\"hv-extension-comm\", \"hv-extension-comm\", function () {});\n  if (server_id !== null) {\n    comm.send({event_type: 'server_delete', 'id': server_id});\n    return;\n  } else if (comm !== null) {\n    comm.send({event_type: 'delete', 'id': id});\n  }\n  delete PyViz.plot_index[id];\n  if ((window.Bokeh !== undefined) & (id in window.Bokeh.index)) {\n    var doc = window.Bokeh.index[id].model.document\n    doc.clear();\n    const i = window.Bokeh.documents.indexOf(doc);\n    if (i > -1) {\n      window.Bokeh.documents.splice(i, 1);\n    }\n  }\n}\n\n/**\n * Handle kernel restart event\n */\nfunction handle_kernel_cleanup(event, handle) {\n  delete PyViz.comms[\"hv-extension-comm\"];\n  window.PyViz.plot_index = {}\n}\n\n/**\n * Handle update_display_data messages\n */\nfunction handle_update_output(event, handle) {\n  handle_clear_output(event, {cell: {output_area: handle.output_area}})\n  handle_add_output(event, handle)\n}\n\nfunction register_renderer(events, OutputArea) {\n  function append_mime(data, metadata, element) {\n    // create a DOM node to render to\n    var toinsert = this.create_output_subarea(\n    metadata,\n    CLASS_NAME,\n    EXEC_MIME_TYPE\n    );\n    this.keyboard_manager.register_events(toinsert);\n    // Render to node\n    var props = {data: data, metadata: metadata[EXEC_MIME_TYPE]};\n    render(props, toinsert[0]);\n    element.append(toinsert);\n    return toinsert\n  }\n\n  events.on('output_added.OutputArea', handle_add_output);\n  events.on('output_updated.OutputArea', handle_update_output);\n  events.on('clear_output.CodeCell', handle_clear_output);\n  events.on('delete.Cell', handle_clear_output);\n  events.on('kernel_ready.Kernel', handle_kernel_cleanup);\n\n  OutputArea.prototype.register_mime_type(EXEC_MIME_TYPE, append_mime, {\n    safe: true,\n    index: 0\n  });\n}\n\nif (window.Jupyter !== undefined) {\n  try {\n    var events = require('base/js/events');\n    var OutputArea = require('notebook/js/outputarea').OutputArea;\n    if (OutputArea.prototype.mime_types().indexOf(EXEC_MIME_TYPE) == -1) {\n      register_renderer(events, OutputArea);\n    }\n  } catch(err) {\n  }\n}\n",
      "application/vnd.holoviews_load.v0+json": ""
     },
     "metadata": {},
     "output_type": "display_data"
    },
    {
     "data": {
      "text/html": [
       "<style>*[data-root-id],\n",
       "*[data-root-id] > * {\n",
       "  box-sizing: border-box;\n",
       "  font-family: var(--jp-ui-font-family);\n",
       "  font-size: var(--jp-ui-font-size1);\n",
       "  color: var(--vscode-editor-foreground, var(--jp-ui-font-color1));\n",
       "}\n",
       "\n",
       "/* Override VSCode background color */\n",
       ".cell-output-ipywidget-background:has(\n",
       "    > .cell-output-ipywidget-background > .lm-Widget > *[data-root-id]\n",
       "  ),\n",
       ".cell-output-ipywidget-background:has(> .lm-Widget > *[data-root-id]) {\n",
       "  background-color: transparent !important;\n",
       "}\n",
       "</style>"
      ]
     },
     "metadata": {},
     "output_type": "display_data"
    }
   ],
   "source": [
    "# Dependencies and Setup\n",
    "import hvplot.pandas\n",
    "import pandas as pd\n",
    "import requests\n",
    "import geoviews as gv\n",
    "import geoviews.tile_sources as gts\n",
    "import holoviews as hv\n",
    "import matplotlib.pyplot as plt\n",
    "hv.extension('matplotlib')\n",
    "hv.extension('bokeh')\n",
    "\n",
    "\n",
    "%matplotlib inline\n",
    "\n",
    "\n",
    "\n",
    "\n",
    "# Import API key\n",
    "from api_keys import geoapify_key"
   ]
  },
  {
   "cell_type": "code",
   "execution_count": 2,
   "metadata": {},
   "outputs": [
    {
     "name": "stdout",
     "output_type": "stream",
     "text": [
      "                City  Max Temp  Max Temp (C)  Wind Speed  Cloudiness\n",
      "0               mana    299.23         26.08        3.79          85\n",
      "1  port-aux-francais    278.88          5.73       10.77          99\n",
      "2            bartica    300.33         27.18        1.81          88\n",
      "3               nuuk    274.49          1.34       18.01         100\n",
      "4            stanley    272.33         -0.82        0.51          40\n",
      "5          grytviken    274.94          1.79        4.91          28\n",
      "6          dhidhdhoo    301.01         27.86        0.31          93\n",
      "7              crane    289.30         16.15        2.86          11\n",
      "8             bethel    277.70          4.55        7.20         100\n",
      "9           belmonte    299.31         26.16        5.52          83\n"
     ]
    }
   ],
   "source": [
    "# Load the CSV file created in Part 1 into a Pandas DataFrame\n",
    "output_path = r\"C:\\Users\\lenar\\OneDrive\\Documents\\Data Bootcamp\\python-api-challenge\\WeatherPy\\Starter_Code\\Starter_Code\\output_data\\cities.csv\"\n",
    "city_data_df = pd.read_csv(output_path)\n",
    "\n",
    "# Convert Kelvin to Celsius\n",
    "city_data_df['Max Temp (C)'] = city_data_df['Max Temp'] - 273.15\n",
    "\n",
    "# Display sample data with temperature in Celsius, keeping 'Wind Speed' and 'Cloudiness'\n",
    "print(city_data_df[['City', 'Max Temp', 'Max Temp (C)', 'Wind Speed', 'Cloudiness']].head(10))\n"
   ]
  },
  {
   "cell_type": "markdown",
   "metadata": {},
   "source": [
    "---\n",
    "\n",
    "### Step 1: Create a map that displays a point for every city in the `city_data_df` DataFrame. The size of the point should be the humidity in each city."
   ]
  },
  {
   "cell_type": "code",
   "execution_count": 3,
   "metadata": {},
   "outputs": [
    {
     "data": {},
     "metadata": {},
     "output_type": "display_data"
    },
    {
     "data": {
      "application/vnd.holoviews_exec.v0+json": "",
      "text/html": [
       "<div id='p1007'>\n",
       "  <div id=\"f0c47075-8d0e-4efa-aad7-bbc973db497e\" data-root-id=\"p1007\" style=\"display: contents;\"></div>\n",
       "</div>\n",
       "<script type=\"application/javascript\">(function(root) {\n",
       "  var docs_json = {\"abf55473-f0e2-464b-abf5-75907c05d235\":{\"version\":\"3.3.0\",\"title\":\"Bokeh Application\",\"roots\":[{\"type\":\"object\",\"name\":\"Row\",\"id\":\"p1007\",\"attributes\":{\"name\":\"Row03104\",\"tags\":[\"embedded\"],\"stylesheets\":[\"\\n:host(.pn-loading.pn-arc):before, .pn-loading.pn-arc:before {\\n  background-image: url(\\\"data:image/svg+xml;base64,PHN2ZyB4bWxucz0iaHR0cDovL3d3dy53My5vcmcvMjAwMC9zdmciIHN0eWxlPSJtYXJnaW46IGF1dG87IGJhY2tncm91bmQ6IG5vbmU7IGRpc3BsYXk6IGJsb2NrOyBzaGFwZS1yZW5kZXJpbmc6IGF1dG87IiB2aWV3Qm94PSIwIDAgMTAwIDEwMCIgcHJlc2VydmVBc3BlY3RSYXRpbz0ieE1pZFlNaWQiPiAgPGNpcmNsZSBjeD0iNTAiIGN5PSI1MCIgZmlsbD0ibm9uZSIgc3Ryb2tlPSIjYzNjM2MzIiBzdHJva2Utd2lkdGg9IjEwIiByPSIzNSIgc3Ryb2tlLWRhc2hhcnJheT0iMTY0LjkzMzYxNDMxMzQ2NDE1IDU2Ljk3Nzg3MTQzNzgyMTM4Ij4gICAgPGFuaW1hdGVUcmFuc2Zvcm0gYXR0cmlidXRlTmFtZT0idHJhbnNmb3JtIiB0eXBlPSJyb3RhdGUiIHJlcGVhdENvdW50PSJpbmRlZmluaXRlIiBkdXI9IjFzIiB2YWx1ZXM9IjAgNTAgNTA7MzYwIDUwIDUwIiBrZXlUaW1lcz0iMDsxIj48L2FuaW1hdGVUcmFuc2Zvcm0+ICA8L2NpcmNsZT48L3N2Zz4=\\\");\\n  background-size: auto calc(min(50%, 400px));\\n}\",{\"type\":\"object\",\"name\":\"ImportedStyleSheet\",\"id\":\"p1010\",\"attributes\":{\"url\":\"https://cdn.holoviz.org/panel/1.3.4/dist/css/loading.css\"}},{\"type\":\"object\",\"name\":\"ImportedStyleSheet\",\"id\":\"p1086\",\"attributes\":{\"url\":\"https://cdn.holoviz.org/panel/1.3.4/dist/css/listpanel.css\"}},{\"type\":\"object\",\"name\":\"ImportedStyleSheet\",\"id\":\"p1008\",\"attributes\":{\"url\":\"https://cdn.holoviz.org/panel/1.3.4/dist/bundled/theme/default.css\"}},{\"type\":\"object\",\"name\":\"ImportedStyleSheet\",\"id\":\"p1009\",\"attributes\":{\"url\":\"https://cdn.holoviz.org/panel/1.3.4/dist/bundled/theme/native.css\"}}],\"min_width\":800,\"margin\":0,\"sizing_mode\":\"stretch_width\",\"align\":\"start\",\"children\":[{\"type\":\"object\",\"name\":\"Spacer\",\"id\":\"p1011\",\"attributes\":{\"name\":\"HSpacer03115\",\"stylesheets\":[\"\\n:host(.pn-loading.pn-arc):before, .pn-loading.pn-arc:before {\\n  background-image: url(\\\"data:image/svg+xml;base64,PHN2ZyB4bWxucz0iaHR0cDovL3d3dy53My5vcmcvMjAwMC9zdmciIHN0eWxlPSJtYXJnaW46IGF1dG87IGJhY2tncm91bmQ6IG5vbmU7IGRpc3BsYXk6IGJsb2NrOyBzaGFwZS1yZW5kZXJpbmc6IGF1dG87IiB2aWV3Qm94PSIwIDAgMTAwIDEwMCIgcHJlc2VydmVBc3BlY3RSYXRpbz0ieE1pZFlNaWQiPiAgPGNpcmNsZSBjeD0iNTAiIGN5PSI1MCIgZmlsbD0ibm9uZSIgc3Ryb2tlPSIjYzNjM2MzIiBzdHJva2Utd2lkdGg9IjEwIiByPSIzNSIgc3Ryb2tlLWRhc2hhcnJheT0iMTY0LjkzMzYxNDMxMzQ2NDE1IDU2Ljk3Nzg3MTQzNzgyMTM4Ij4gICAgPGFuaW1hdGVUcmFuc2Zvcm0gYXR0cmlidXRlTmFtZT0idHJhbnNmb3JtIiB0eXBlPSJyb3RhdGUiIHJlcGVhdENvdW50PSJpbmRlZmluaXRlIiBkdXI9IjFzIiB2YWx1ZXM9IjAgNTAgNTA7MzYwIDUwIDUwIiBrZXlUaW1lcz0iMDsxIj48L2FuaW1hdGVUcmFuc2Zvcm0+ICA8L2NpcmNsZT48L3N2Zz4=\\\");\\n  background-size: auto calc(min(50%, 400px));\\n}\",{\"id\":\"p1010\"},{\"id\":\"p1008\"},{\"id\":\"p1009\"}],\"margin\":0,\"sizing_mode\":\"stretch_width\",\"align\":\"start\"}},{\"type\":\"object\",\"name\":\"Figure\",\"id\":\"p1031\",\"attributes\":{\"width\":800,\"height\":500,\"margin\":[5,10],\"sizing_mode\":\"fixed\",\"align\":\"start\",\"x_range\":{\"type\":\"object\",\"name\":\"Range1d\",\"id\":\"p1021\",\"attributes\":{\"tags\":[[[\"Longitude\",\"Longitude\",null]],[]],\"start\":-22124445.32431637,\"end\":22333926.34209115,\"reset_start\":-22124445.32431637,\"reset_end\":22333926.34209115,\"min_interval\":5}},\"y_range\":{\"type\":\"object\",\"name\":\"Range1d\",\"id\":\"p1022\",\"attributes\":{\"tags\":[[[\"Latitude\",\"Latitude\",null]],{\"type\":\"map\",\"entries\":[[\"invert_yaxis\",false],[\"autorange\",false]]}],\"start\":-9504139.925670017,\"end\":16667782.964865487,\"reset_start\":-9504139.925670017,\"reset_end\":16667782.964865487,\"min_interval\":5}},\"x_scale\":{\"type\":\"object\",\"name\":\"LinearScale\",\"id\":\"p1041\"},\"y_scale\":{\"type\":\"object\",\"name\":\"LinearScale\",\"id\":\"p1042\"},\"title\":{\"type\":\"object\",\"name\":\"Title\",\"id\":\"p1034\",\"attributes\":{\"text_color\":\"black\",\"text_font_size\":\"12pt\"}},\"renderers\":[{\"type\":\"object\",\"name\":\"TileRenderer\",\"id\":\"p1064\",\"attributes\":{\"level\":\"underlay\",\"tile_source\":{\"type\":\"object\",\"name\":\"WMTSTileSource\",\"id\":\"p1060\",\"attributes\":{\"url\":\"https://cartodb-basemaps-4.global.ssl.fastly.net/light_all/{Z}/{X}/{Y}.png\",\"attribution\":\"&copy; <a href=\\\"https://www.openstreetmap.org/copyright\\\">OpenStreetMap</a> contributors, &copy; <a href=\\\"https://cartodb.com/attributions\\\">CartoDB</a>\"}}}},{\"type\":\"object\",\"name\":\"GlyphRenderer\",\"id\":\"p1078\",\"attributes\":{\"name\":\"color\",\"data_source\":{\"type\":\"object\",\"name\":\"ColumnDataSource\",\"id\":\"p1067\",\"attributes\":{\"selected\":{\"type\":\"object\",\"name\":\"Selection\",\"id\":\"p1068\",\"attributes\":{\"indices\":[],\"line_indices\":[]}},\"selection_policy\":{\"type\":\"object\",\"name\":\"UnionRenderers\",\"id\":\"p1069\"},\"data\":{\"type\":\"map\",\"entries\":[[\"Lng\",{\"type\":\"ndarray\",\"array\":{\"type\":\"bytes\",\"data\":\"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\"},\"shape\":[572],\"dtype\":\"float64\",\"order\":\"little\"}],[\"Lat\",{\"type\":\"ndarray\",\"array\":{\"type\":\"bytes\",\"data\":\"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\"},\"shape\":[572],\"dtype\":\"float64\",\"order\":\"little\"}],[\"color\",[\"mana\",\"port-aux-francais\",\"bartica\",\"nuuk\",\"stanley\",\"grytviken\",\"dhidhdhoo\",\"crane\",\"bethel\",\"belmonte\",\"marquard\",\"georgetown\",\"ushuaia\",\"anadyr\",\"puerto ayora\",\"tiksi\",\"egilsstadir\",\"waitangi\",\"aasiaat\",\"zeya\",\"saipan\",\"puerto baquerizo moreno\",\"olonkinbyen\",\"bredasdorp\",\"aur\",\"isafjordur\",\"quellon\",\"vila velha\",\"moranbah\",\"papatowai\",\"avarua\",\"port mathurin\",\"thompson\",\"ilulissat\",\"kununurra\",\"paka\",\"adamstown\",\"utrik\",\"lorengau\",\"biltine\",\"yanam\",\"kone\",\"vigan\",\"pisco\",\"edinburgh of the seven seas\",\"yerofey pavlovich\",\"longyearbyen\",\"prieska\",\"susuman\",\"margaret river\",\"syktyvkar\",\"port elizabeth\",\"mawu\",\"cabo san lucas\",\"hammerfest\",\"namibe\",\"el charco\",\"okhotsk\",\"vernon\",\"shalqar\",\"talcahuano\",\"kodiak\",\"blackmans bay\",\"udachny\",\"twon-brass\",\"kudahuvadhoo\",\"west island\",\"tazacorte\",\"banamba\",\"carnarvon\",\"rurrenabaque\",\"forster\",\"itabirito\",\"soio\",\"hawaiian paradise park\",\"rio grande\",\"banfora\",\"iqaluit\",\"scottburgh\",\"whitehorse\",\"gadzhiyevo\",\"miasskoye\",\"yellowknife\",\"hermanus\",\"gornyy\",\"coronel suarez\",\"kangding\",\"kilindoni\",\"khandyga\",\"invercargill\",\"purpe\",\"salinopolis\",\"vila franca do campo\",\"punta arenas\",\"albany\",\"kalmunai\",\"touros\",\"puerto natales\",\"kamiiso\",\"dzuunmod\",\"kingston\",\"hithadhoo\",\"remire-montjoly\",\"ribeira grande\",\"siwa oasis\",\"minas de marcona\",\"al lagowa\",\"spring creek\",\"xining\",\"wailua homesteads\",\"yuzhno-kurilsk\",\"whangarei\",\"novyy urengoy\",\"winburg\",\"kitimat\",\"kettering\",\"kratie\",\"afaahiti\",\"xilin hot\",\"saint-joseph\",\"chaman\",\"qaqortoq\",\"santa maria huatulco\",\"uturoa\",\"howard springs\",\"severo-yeniseyskiy\",\"naze\",\"rongelap\",\"teknaf\",\"thai binh\",\"hovd\",\"high point\",\"la'ie\",\"st. john's\",\"port-gentil\",\"prince rupert\",\"tulagi\",\"freetown\",\"aioun\",\"ta`u\",\"ajodhya\",\"kapuskasing\",\"fisterra\",\"valparaiso\",\"sisimiut\",\"alice springs\",\"bilibino\",\"bereznik\",\"atafu village\",\"linhares\",\"nagqu\",\"luau\",\"canutama\",\"duyun\",\"boende\",\"karabar\",\"nemuro\",\"eirunepe\",\"ust-nera\",\"san luis de la loma\",\"kismayo\",\"letterkenny\",\"spirit lake\",\"mercedes\",\"happy valley-goose bay\",\"lata\",\"grand-lahou\",\"pacific grove\",\"ledeberg\",\"tura\",\"san fernando\",\"tallahassee\",\"nabire\",\"arno\",\"puerto armuelles\",\"klyuchi\",\"polyarnyy\",\"barnard castle\",\"fumel\",\"juneau\",\"itaituba\",\"jamestown\",\"mejit\",\"melekeok village\",\"codrington\",\"ceres\",\"coquimbo\",\"san pedro pochutla\",\"constantia\",\"boyolangu\",\"laramie\",\"shache\",\"haiku-pauwela\",\"de aar\",\"petropavlovsk-kamchatsky\",\"flying fish cove\",\"weno\",\"meeuwen\",\"talnakh\",\"priargunsk\",\"inirida\",\"sadovoye\",\"zhangye\",\"yelan'-koleno\",\"san patricio\",\"dickinson\",\"shahrisabz\",\"lebu\",\"powell\",\"taupo\",\"badger\",\"college\",\"sebastian\",\"trabzon\",\"chonchi\",\"isangel\",\"bhit shah\",\"bei'an\",\"westport\",\"roshchino\",\"ko pha ngan\",\"la passe\",\"bridlington\",\"nadym\",\"korla\",\"mossel bay\",\"porto-vecchio\",\"al abyar\",\"tuy hoa\",\"vorgashor\",\"geraldton\",\"adrar\",\"punta del este\",\"uzhur\",\"katsuura\",\"bodo\",\"kertih\",\"hamilton\",\"qui nhon\",\"palmer\",\"g'uzor\",\"gisborne\",\"djebeniana\",\"battenberg\",\"puerto madryn\",\"chibougamau\",\"safotu\",\"port alfred\",\"kailua-kona\",\"jiangyou\",\"macheng\",\"broken hill\",\"guerrero negro\",\"fale old settlement\",\"mount pearl\",\"ust'-uda\",\"la gi\",\"turpan\",\"east london\",\"abbeville\",\"nizhnyaya tavda\",\"hajo\",\"al burayqah\",\"berlin\",\"cajabamba\",\"susanville\",\"ancud\",\"port hueneme\",\"queenstown\",\"dudinka\",\"zalingei\",\"odoyev\",\"nova sintra\",\"praia da vitoria\",\"al jawf\",\"tarnogskiy gorodok\",\"flin flon\",\"bel ombre\",\"robore\",\"puerto santa\",\"port lincoln\",\"namie\",\"joinville\",\"arraial do cabo\",\"monrovia\",\"jipijapa\",\"santa ana de yacuma\",\"mitsamiouli\",\"mungwi\",\"harstad\",\"fort st. john\",\"grahamstown\",\"port moresby\",\"kuta\",\"pimenta bueno\",\"centerville\",\"trinidad\",\"amarwara\",\"inhambane\",\"lysyye gory\",\"antsiranana\",\"sovetskaya gavan'\",\"al fuwayliq\",\"salalah\",\"toliara\",\"keflavik\",\"mount gambier\",\"kiknur\",\"dolinsk\",\"roma\",\"turkmenbasy\",\"saudarkrokur\",\"kislyakovskaya\",\"mogocha\",\"dunay\",\"zhalantun\",\"suva\",\"fort stockton\",\"pijijiapan\",\"bukama\",\"pokhara\",\"lazaro cardenas\",\"luchegorsk\",\"iskateley\",\"lichinga\",\"kutum\",\"pavilosta\",\"port douglas\",\"chunskiy\",\"vilyuchinsk\",\"nizhnyaya poyma\",\"san andres\",\"revda\",\"bol'shoye murashkino\",\"zlatoust\",\"kuala tungkal\",\"sao joao da barra\",\"kyzylorda\",\"balotra\",\"portland\",\"masterton\",\"hobyo\",\"antonio enes\",\"mil'kovo\",\"sittwe\",\"callao\",\"piton saint-leu\",\"paita\",\"marti\",\"keetmanshoop\",\"yung shue wan\",\"fort mcmurray\",\"puerto colombia\",\"holualoa\",\"rayachoti\",\"nchelenge\",\"el alto\",\"morsi\",\"tinambac\",\"san pedro\",\"sieradz\",\"saint-leu\",\"kerikeri\",\"parakou\",\"hasaki\",\"giyani\",\"homer\",\"bamboo flat\",\"fort scott\",\"mukalla\",\"kumertau\",\"caleta de carquin\",\"sujiatun\",\"funadhoo\",\"kattivakkam\",\"nuku'alofa\",\"ouarzazat\",\"lihue\",\"enewetak\",\"vallenar\",\"trooz\",\"colon\",\"puerto leguizamo\",\"as sulayyil\",\"dazhou\",\"nzega\",\"nar'yan-mar\",\"kongwa\",\"luderitz\",\"bandon\",\"ceeldheer\",\"ouani\",\"kassala\",\"mahanoro\",\"walvis bay\",\"puerto deseado\",\"salahonda\",\"nanakuli\",\"nyurba\",\"wiradesa\",\"padangsidempuan\",\"richards bay\",\"lulea\",\"oppdal\",\"loen\",\"shannon\",\"grand falls-windsor\",\"nekrasovskiy\",\"amahai\",\"pamekasan\",\"mont-laurier\",\"mumbwa\",\"susangerd\",\"chisec\",\"el dorado\",\"kapoeta\",\"goundam\",\"nadi\",\"sidney\",\"quesnel\",\"piti village\",\"havre\",\"gokwe\",\"bejaia\",\"kloulklubed\",\"codajas\",\"urangan\",\"mocimboa\",\"santana\",\"fada\",\"champerico\",\"ronneby\",\"tarko-sale\",\"scarborough\",\"la ronge\",\"huacho\",\"burgas\",\"afua\",\"kirensk\",\"newnham\",\"kalabo\",\"guangyuan\",\"saldanha\",\"el bolson\",\"pathein\",\"fereydun kenar\",\"yamada\",\"itoman\",\"boa vista\",\"tianshui\",\"akureyri\",\"saint-philippe\",\"laguna\",\"san antonio\",\"benghazi\",\"pokaran\",\"tazovsky\",\"grand-bassam\",\"fortuna\",\"karratha\",\"nanga eboko\",\"yantzaza\",\"sinop\",\"fort dodge\",\"karukh\",\"linxia chengguanzhen\",\"kavaratti\",\"puerto maldonado\",\"rawson\",\"mega\",\"yarkovo\",\"ola\",\"buala\",\"ulsteinvik\",\"tan-tan\",\"sandnessjoen\",\"villa huidobro\",\"newman\",\"barra de santo antonio\",\"sinabang\",\"howrah\",\"varennes-vauzelles\",\"latakia\",\"ortaca\",\"el porvenir\",\"bubaque\",\"jabor\",\"sulak\",\"ziguinchor\",\"pong\",\"kapa'a\",\"rome\",\"beaufort\",\"vadso\",\"svetlograd\",\"colonia\",\"machulishchy\",\"eyl\",\"harjavalta\",\"uttarkashi\",\"mena\",\"sfizef\",\"nizhneudinsk\",\"sola\",\"katabu\",\"lompoc\",\"swiebodzice\",\"la mana\",\"kuala terengganu\",\"bouar\",\"maceio\",\"mujiayingzi\",\"hueyapan\",\"awjilah\",\"barra dos coqueiros\",\"jiuquan\",\"arkhangel'sk\",\"ribeira brava\",\"greenville\",\"cromer\",\"muurame\",\"novodvinsk\",\"mar del plata\",\"devonport\",\"hilo\",\"el granada\",\"corner brook\",\"tolanaro\",\"rib mountain\",\"santa cruz\",\"tralee\",\"tarrafal de sao nicolau\",\"pihuamo\",\"jiazi\",\"page\",\"camargo\",\"santa isabel\",\"vrede\",\"labytnangi\",\"sechura\",\"maragogi\",\"nova vicosa\",\"puerto plata\",\"dauphin\",\"marsabit\",\"kendari\",\"pemangkat\",\"cacule\",\"sooke\",\"loushanguan\",\"baoshan\",\"hami\",\"ndola\",\"port saint john's\",\"tamandare\",\"labrador city\",\"lakatoro\",\"arona\",\"mariehamn\",\"tocopilla\",\"ebon\",\"fort-de-france\",\"shalkar\",\"manokwari\",\"okha\",\"isanlu-itedoijowa\",\"ubari\",\"chandler\",\"kuqa\",\"palu\",\"nikel\",\"willows\"]],[\"size\",{\"type\":\"ndarray\",\"array\":{\"type\":\"bytes\",\"data\":\"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\"},\"shape\":[572],\"dtype\":\"float64\",\"order\":\"little\"}]]}}},\"view\":{\"type\":\"object\",\"name\":\"CDSView\",\"id\":\"p1079\",\"attributes\":{\"filter\":{\"type\":\"object\",\"name\":\"AllIndices\",\"id\":\"p1080\"}}},\"glyph\":{\"type\":\"object\",\"name\":\"Scatter\",\"id\":\"p1073\",\"attributes\":{\"tags\":[\"apply_ranges\"],\"x\":{\"type\":\"field\",\"field\":\"Lng\"},\"y\":{\"type\":\"field\",\"field\":\"Lat\"},\"size\":{\"type\":\"field\",\"field\":\"size\"},\"line_color\":{\"type\":\"field\",\"field\":\"color\",\"transform\":{\"type\":\"object\",\"name\":\"CategoricalColorMapper\",\"id\":\"p1066\",\"attributes\":{\"palette\":[\"#b3fef5\",\"#b3fef5\",\"#b3fef5\",\"#b0fef5\",\"#b0fef5\",\"#adfdf5\",\"#adfdf5\",\"#a9fcf5\",\"#a9fcf5\",\"#a6fbf6\",\"#a6fbf6\",\"#a6fbf6\",\"#a3faf6\",\"#a3faf6\",\"#a0faf6\",\"#a0faf6\",\"#9df9f6\",\"#9df9f6\",\"#9af8f6\",\"#9af8f6\",\"#9af8f6\",\"#97f7f6\",\"#97f7f6\",\"#93f7f6\",\"#93f7f6\",\"#90f6f6\",\"#90f6f6\",\"#8df5f6\",\"#8df5f6\",\"#8af4f7\",\"#8af4f7\",\"#8af4f7\",\"#87f3f7\",\"#87f3f7\",\"#83f2f7\",\"#83f2f7\",\"#80f2f7\",\"#80f2f7\",\"#7df1f7\",\"#7df1f7\",\"#7df1f7\",\"#79f0f7\",\"#79f0f7\",\"#76eff7\",\"#76eff7\",\"#73eef7\",\"#73eef7\",\"#6fedf8\",\"#6fedf8\",\"#6fedf8\",\"#6cecf8\",\"#6cecf8\",\"#68ecf8\",\"#68ecf8\",\"#65ebf8\",\"#65ebf8\",\"#61eaf8\",\"#61eaf8\",\"#5ee9f8\",\"#5ee9f8\",\"#5ee9f8\",\"#5ae8f8\",\"#5ae8f8\",\"#57e7f8\",\"#57e7f8\",\"#53e6f8\",\"#53e6f8\",\"#50e5f9\",\"#50e5f9\",\"#50e5f9\",\"#4ce4f9\",\"#4ce4f9\",\"#49e3f9\",\"#49e3f9\",\"#45e2f9\",\"#45e2f9\",\"#42e1f9\",\"#42e1f9\",\"#42e1f9\",\"#3ee0f9\",\"#3ee0f9\",\"#3bdff9\",\"#3bdff9\",\"#38def9\",\"#38def9\",\"#35ddf9\",\"#35ddf9\",\"#32dcf9\",\"#32dcf9\",\"#32dcf9\",\"#30dbfa\",\"#30dbfa\",\"#2ed9fa\",\"#2ed9fa\",\"#2dd8fa\",\"#2dd8fa\",\"#2cd7fa\",\"#2cd7fa\",\"#2cd7fa\",\"#2bd6fa\",\"#2bd6fa\",\"#2bd5fa\",\"#2bd5fa\",\"#2ad3fa\",\"#2ad3fa\",\"#2ad2fa\",\"#2ad2fa\",\"#2ad2fa\",\"#29d1fa\",\"#29d1fa\",\"#29d0fb\",\"#29d0fb\",\"#29cffb\",\"#29cffb\",\"#28cdfb\",\"#28cdfb\",\"#28ccfb\",\"#28ccfb\",\"#28ccfb\",\"#28cbfb\",\"#28cbfb\",\"#28cafb\",\"#28cafb\",\"#28c8fb\",\"#28c8fb\",\"#28c7fb\",\"#28c7fb\",\"#28c7fb\",\"#29c6fb\",\"#29c6fb\",\"#29c5fb\",\"#29c5fb\",\"#29c4fb\",\"#29c4fb\",\"#29c2fb\",\"#29c2fb\",\"#29c2fb\",\"#2ac1fb\",\"#2ac1fb\",\"#2ac0fb\",\"#2ac0fb\",\"#2bbffb\",\"#2bbffb\",\"#2bbdfc\",\"#2bbdfc\",\"#2cbcfc\",\"#2cbcfc\",\"#2cbcfc\",\"#2dbbfc\",\"#2dbbfc\",\"#2db9fc\",\"#2db9fc\",\"#2eb8fc\",\"#2eb8fc\",\"#2fb7fc\",\"#2fb7fc\",\"#2fb7fc\",\"#2fb6fc\",\"#2fb6fc\",\"#30b4fc\",\"#30b4fc\",\"#31b3fc\",\"#31b3fc\",\"#32b2fc\",\"#32b2fc\",\"#32b2fc\",\"#32b0fc\",\"#32b0fc\",\"#33affc\",\"#33affc\",\"#33aefc\",\"#33aefc\",\"#34adfc\",\"#34adfc\",\"#34abfc\",\"#34abfc\",\"#34abfc\",\"#34aafc\",\"#34aafc\",\"#35a9fc\",\"#35a9fc\",\"#35a8fc\",\"#35a8fc\",\"#35a6fc\",\"#35a6fc\",\"#35a6fc\",\"#35a5fc\",\"#35a5fc\",\"#35a4fc\",\"#35a4fc\",\"#35a3fc\",\"#35a3fc\",\"#35a1fc\",\"#35a1fc\",\"#35a1fc\",\"#35a0fc\",\"#35a0fc\",\"#359ffc\",\"#359ffc\",\"#359dfc\",\"#359dfc\",\"#359cfc\",\"#359cfc\",\"#359bfc\",\"#359bfc\",\"#359bfc\",\"#349afd\",\"#349afd\",\"#3498fd\",\"#3498fd\",\"#3497fd\",\"#3497fd\",\"#3396fd\",\"#3396fd\",\"#3396fd\",\"#3395fd\",\"#3395fd\",\"#3293fd\",\"#3293fd\",\"#3292fd\",\"#3292fd\",\"#3191fd\",\"#3191fd\",\"#3191fd\",\"#3090fd\",\"#3090fd\",\"#308ffd\",\"#308ffd\",\"#2f8dfd\",\"#2f8dfd\",\"#2f8cfd\",\"#2f8cfd\",\"#2e8bfd\",\"#2e8bfd\",\"#2e8bfd\",\"#2e8afd\",\"#2e8afd\",\"#2d88fd\",\"#2d88fd\",\"#2d87fd\",\"#2d87fd\",\"#2c86fd\",\"#2c86fd\",\"#2c86fd\",\"#2c84fd\",\"#2c84fd\",\"#2c83fd\",\"#2c83fd\",\"#2c82fd\",\"#2c82fd\",\"#2b81fd\",\"#2b81fd\",\"#2b81fd\",\"#2b7ffd\",\"#2b7ffd\",\"#2b7efd\",\"#2b7efd\",\"#2b7dfd\",\"#2b7dfd\",\"#2b7bfd\",\"#2b7bfd\",\"#2b7afd\",\"#2b7afd\",\"#2b7afd\",\"#2b79fd\",\"#2b79fd\",\"#2b77fd\",\"#2b77fd\",\"#2b76fd\",\"#2b76fd\",\"#2b75fd\",\"#2b75fd\",\"#2b75fd\",\"#2b73fd\",\"#2b73fd\",\"#2c72fd\",\"#2c72fd\",\"#2c71fd\",\"#2c71fd\",\"#2c6ffd\",\"#2c6ffd\",\"#2c6ffd\",\"#2c6efd\",\"#2c6efd\",\"#2d6cfd\",\"#2d6cfd\",\"#2d6bfd\",\"#2d6bfd\",\"#2d6afc\",\"#2d6afc\",\"#2e68fc\",\"#2e68fc\",\"#2e68fc\",\"#2e67fc\",\"#2e67fc\",\"#2e65fc\",\"#2e65fc\",\"#2e64fc\",\"#2e64fc\",\"#2f62fc\",\"#2f62fc\",\"#2f62fc\",\"#2f61fc\",\"#2f61fc\",\"#2f5ffc\",\"#2f5ffc\",\"#2f5efc\",\"#2f5efc\",\"#2f5dfc\",\"#2f5dfc\",\"#2f5dfc\",\"#2f5bfc\",\"#2f5bfc\",\"#2f5afc\",\"#2f5afc\",\"#2f58fb\",\"#2f58fb\",\"#2f57fb\",\"#2f57fb\",\"#2f55fb\",\"#2f55fb\",\"#2f55fb\",\"#2f53fb\",\"#2f53fb\",\"#2f52fb\",\"#2f52fb\",\"#2f50fb\",\"#2f50fb\",\"#2f4ffb\",\"#2f4ffb\",\"#2f4ffb\",\"#2f4dfb\",\"#2f4dfb\",\"#2e4cfb\",\"#2e4cfb\",\"#2e4afb\",\"#2e4afb\",\"#2e48fb\",\"#2e48fb\",\"#2e48fb\",\"#2e47fa\",\"#2e47fa\",\"#2d45fa\",\"#2d45fa\",\"#2d43fa\",\"#2d43fa\",\"#2d42fa\",\"#2d42fa\",\"#2d40fa\",\"#2d40fa\",\"#2d40fa\",\"#2c3efa\",\"#2c3efa\",\"#2c3dfa\",\"#2c3dfa\",\"#2b3bf9\",\"#2b3bf9\",\"#2b39f9\",\"#2b39f9\",\"#2b39f9\",\"#2a37f9\",\"#2a37f9\",\"#2a36f8\",\"#2a36f8\",\"#2934f8\",\"#2934f8\",\"#2832f7\",\"#2832f7\",\"#2832f7\",\"#2831f7\",\"#2831f7\",\"#272ff6\",\"#272ff6\",\"#262ef5\",\"#262ef5\",\"#252cf5\",\"#252cf5\",\"#252af4\",\"#252af4\",\"#252af4\",\"#2429f3\",\"#2429f3\",\"#2327f2\",\"#2327f2\",\"#2226f1\",\"#2226f1\",\"#2124f0\",\"#2124f0\",\"#2124f0\",\"#2023ef\",\"#2023ef\",\"#1f22ee\",\"#1f22ee\",\"#1e20ed\",\"#1e20ed\",\"#1d1feb\",\"#1d1feb\",\"#1d1feb\",\"#1c1eea\",\"#1c1eea\",\"#1b1ce9\",\"#1b1ce9\",\"#1a1be7\",\"#1a1be7\",\"#181ae6\",\"#181ae6\",\"#1719e5\",\"#1719e5\",\"#1719e5\",\"#1618e3\",\"#1618e3\",\"#1417e1\",\"#1417e1\",\"#1316e0\",\"#1316e0\",\"#1215de\",\"#1215de\",\"#1215de\",\"#1014dc\",\"#1014dc\",\"#0f13db\",\"#0f13db\",\"#0e12d9\",\"#0e12d9\",\"#0d11d7\",\"#0d11d7\",\"#0d11d7\",\"#0c10d5\",\"#0c10d5\",\"#0b0fd3\",\"#0b0fd3\",\"#0a0ed1\",\"#0a0ed1\",\"#090dd0\",\"#090dd0\",\"#080dce\",\"#080dce\",\"#080dce\",\"#080ccc\",\"#080ccc\",\"#070bca\",\"#070bca\",\"#070ac8\",\"#070ac8\",\"#0709c6\",\"#0709c6\",\"#0709c6\",\"#0708c4\",\"#0708c4\",\"#0707c2\",\"#0707c2\",\"#0707bf\",\"#0707bf\",\"#0806bd\",\"#0806bd\",\"#0806bd\",\"#0806bb\",\"#0806bb\",\"#0905b9\",\"#0905b9\",\"#0904b7\",\"#0904b7\",\"#0a04b5\",\"#0a04b5\",\"#0a04b2\",\"#0a04b2\",\"#0a04b2\",\"#0b03b0\",\"#0b03b0\",\"#0c03ae\",\"#0c03ae\",\"#0d02ab\",\"#0d02ab\",\"#0e02a9\",\"#0e02a9\",\"#0e02a9\",\"#0e02a7\",\"#0e02a7\",\"#0f02a4\",\"#0f02a4\",\"#0f01a2\",\"#0f01a2\",\"#1001a0\",\"#1001a0\",\"#1001a0\",\"#10019d\",\"#10019d\",\"#10019b\",\"#10019b\",\"#100199\",\"#100199\",\"#100197\",\"#100197\",\"#100194\",\"#100194\",\"#100194\",\"#0f0192\",\"#0f0192\",\"#0f0190\",\"#0f0190\",\"#0f018e\",\"#0f018e\",\"#0e018b\",\"#0e018b\",\"#0e018b\",\"#0e0189\",\"#0e0189\",\"#0d0187\",\"#0d0187\",\"#0d0185\",\"#0d0185\",\"#0c0183\",\"#0c0183\",\"#0c0183\",\"#0b0181\",\"#0b0181\",\"#0b017e\",\"#0b017e\",\"#0a017c\",\"#0a017c\",\"#09017a\",\"#09017a\",\"#090178\",\"#090178\",\"#090178\",\"#080276\",\"#080276\",\"#070274\",\"#070274\",\"#060272\",\"#060272\",\"#060270\",\"#060270\",\"#060270\",\"#05026e\",\"#05026e\",\"#04026c\",\"#04026c\",\"#030269\",\"#030269\",\"#030267\",\"#030267\",\"#030267\",\"#020265\",\"#020265\",\"#010263\",\"#010263\",\"#010261\",\"#010261\",\"#00025f\",\"#00025f\",\"#00025d\",\"#00025d\",\"#00025d\",\"#00025b\",\"#00025b\",\"#000259\",\"#000259\",\"#000257\",\"#000257\",\"#000255\",\"#000255\",\"#000255\",\"#000154\",\"#000154\",\"#000152\",\"#000152\",\"#000150\",\"#000150\",\"#00004e\",\"#00004e\",\"#00004e\"],\"factors\":[\"mana\",\"port-aux-francais\",\"bartica\",\"nuuk\",\"stanley\",\"grytviken\",\"dhidhdhoo\",\"crane\",\"bethel\",\"belmonte\",\"marquard\",\"georgetown\",\"ushuaia\",\"anadyr\",\"puerto ayora\",\"tiksi\",\"egilsstadir\",\"waitangi\",\"aasiaat\",\"zeya\",\"saipan\",\"puerto baquerizo moreno\",\"olonkinbyen\",\"bredasdorp\",\"aur\",\"isafjordur\",\"quellon\",\"vila velha\",\"moranbah\",\"papatowai\",\"avarua\",\"port mathurin\",\"thompson\",\"ilulissat\",\"kununurra\",\"paka\",\"adamstown\",\"utrik\",\"lorengau\",\"biltine\",\"yanam\",\"kone\",\"vigan\",\"pisco\",\"edinburgh of the seven seas\",\"yerofey pavlovich\",\"longyearbyen\",\"prieska\",\"susuman\",\"margaret river\",\"syktyvkar\",\"port elizabeth\",\"mawu\",\"cabo san lucas\",\"hammerfest\",\"namibe\",\"el charco\",\"okhotsk\",\"vernon\",\"shalqar\",\"talcahuano\",\"kodiak\",\"blackmans bay\",\"udachny\",\"twon-brass\",\"kudahuvadhoo\",\"west island\",\"tazacorte\",\"banamba\",\"carnarvon\",\"rurrenabaque\",\"forster\",\"itabirito\",\"soio\",\"hawaiian paradise park\",\"rio grande\",\"banfora\",\"iqaluit\",\"scottburgh\",\"whitehorse\",\"gadzhiyevo\",\"miasskoye\",\"yellowknife\",\"hermanus\",\"gornyy\",\"coronel suarez\",\"kangding\",\"kilindoni\",\"khandyga\",\"invercargill\",\"purpe\",\"salinopolis\",\"vila franca do campo\",\"punta arenas\",\"albany\",\"kalmunai\",\"touros\",\"puerto natales\",\"kamiiso\",\"dzuunmod\",\"kingston\",\"hithadhoo\",\"remire-montjoly\",\"ribeira grande\",\"siwa oasis\",\"minas de marcona\",\"al lagowa\",\"spring creek\",\"xining\",\"wailua homesteads\",\"yuzhno-kurilsk\",\"whangarei\",\"novyy urengoy\",\"winburg\",\"kitimat\",\"kettering\",\"kratie\",\"afaahiti\",\"xilin hot\",\"saint-joseph\",\"chaman\",\"qaqortoq\",\"santa maria huatulco\",\"uturoa\",\"howard springs\",\"severo-yeniseyskiy\",\"naze\",\"rongelap\",\"teknaf\",\"thai binh\",\"hovd\",\"high point\",\"la'ie\",\"st. john's\",\"port-gentil\",\"prince rupert\",\"tulagi\",\"freetown\",\"aioun\",\"ta`u\",\"ajodhya\",\"kapuskasing\",\"fisterra\",\"valparaiso\",\"sisimiut\",\"alice springs\",\"bilibino\",\"bereznik\",\"atafu village\",\"linhares\",\"nagqu\",\"luau\",\"canutama\",\"duyun\",\"boende\",\"karabar\",\"nemuro\",\"eirunepe\",\"ust-nera\",\"san luis de la loma\",\"kismayo\",\"letterkenny\",\"spirit lake\",\"mercedes\",\"happy valley-goose bay\",\"lata\",\"grand-lahou\",\"pacific grove\",\"ledeberg\",\"tura\",\"san fernando\",\"tallahassee\",\"nabire\",\"arno\",\"puerto armuelles\",\"klyuchi\",\"polyarnyy\",\"barnard castle\",\"fumel\",\"juneau\",\"itaituba\",\"jamestown\",\"mejit\",\"melekeok village\",\"codrington\",\"ceres\",\"coquimbo\",\"san pedro pochutla\",\"constantia\",\"boyolangu\",\"laramie\",\"shache\",\"haiku-pauwela\",\"de aar\",\"petropavlovsk-kamchatsky\",\"flying fish cove\",\"weno\",\"meeuwen\",\"talnakh\",\"priargunsk\",\"inirida\",\"sadovoye\",\"zhangye\",\"yelan'-koleno\",\"san patricio\",\"dickinson\",\"shahrisabz\",\"lebu\",\"powell\",\"taupo\",\"badger\",\"college\",\"sebastian\",\"trabzon\",\"chonchi\",\"isangel\",\"bhit shah\",\"bei'an\",\"westport\",\"roshchino\",\"ko pha ngan\",\"la passe\",\"bridlington\",\"nadym\",\"korla\",\"mossel bay\",\"porto-vecchio\",\"al abyar\",\"tuy hoa\",\"vorgashor\",\"geraldton\",\"adrar\",\"punta del este\",\"uzhur\",\"katsuura\",\"bodo\",\"kertih\",\"hamilton\",\"qui nhon\",\"palmer\",\"g'uzor\",\"gisborne\",\"djebeniana\",\"battenberg\",\"puerto madryn\",\"chibougamau\",\"safotu\",\"port alfred\",\"kailua-kona\",\"jiangyou\",\"macheng\",\"broken hill\",\"guerrero negro\",\"fale old settlement\",\"mount pearl\",\"ust'-uda\",\"la gi\",\"turpan\",\"east london\",\"abbeville\",\"nizhnyaya tavda\",\"hajo\",\"al burayqah\",\"berlin\",\"cajabamba\",\"susanville\",\"ancud\",\"port hueneme\",\"queenstown\",\"dudinka\",\"zalingei\",\"odoyev\",\"nova sintra\",\"praia da vitoria\",\"al jawf\",\"tarnogskiy gorodok\",\"flin flon\",\"bel ombre\",\"robore\",\"puerto santa\",\"port lincoln\",\"namie\",\"joinville\",\"arraial do cabo\",\"monrovia\",\"jipijapa\",\"santa ana de yacuma\",\"mitsamiouli\",\"mungwi\",\"harstad\",\"fort st. john\",\"grahamstown\",\"port moresby\",\"kuta\",\"pimenta bueno\",\"centerville\",\"trinidad\",\"amarwara\",\"inhambane\",\"lysyye gory\",\"antsiranana\",\"sovetskaya gavan'\",\"al fuwayliq\",\"salalah\",\"toliara\",\"keflavik\",\"mount gambier\",\"kiknur\",\"dolinsk\",\"roma\",\"turkmenbasy\",\"saudarkrokur\",\"kislyakovskaya\",\"mogocha\",\"dunay\",\"zhalantun\",\"suva\",\"fort stockton\",\"pijijiapan\",\"bukama\",\"pokhara\",\"lazaro cardenas\",\"luchegorsk\",\"iskateley\",\"lichinga\",\"kutum\",\"pavilosta\",\"port douglas\",\"chunskiy\",\"vilyuchinsk\",\"nizhnyaya poyma\",\"san andres\",\"revda\",\"bol'shoye murashkino\",\"zlatoust\",\"kuala tungkal\",\"sao joao da barra\",\"kyzylorda\",\"balotra\",\"portland\",\"masterton\",\"hobyo\",\"antonio enes\",\"mil'kovo\",\"sittwe\",\"callao\",\"piton saint-leu\",\"paita\",\"marti\",\"keetmanshoop\",\"yung shue wan\",\"fort mcmurray\",\"puerto colombia\",\"holualoa\",\"rayachoti\",\"nchelenge\",\"el alto\",\"morsi\",\"tinambac\",\"san pedro\",\"sieradz\",\"saint-leu\",\"kerikeri\",\"parakou\",\"hasaki\",\"giyani\",\"homer\",\"bamboo flat\",\"fort scott\",\"mukalla\",\"kumertau\",\"caleta de carquin\",\"sujiatun\",\"funadhoo\",\"kattivakkam\",\"nuku'alofa\",\"ouarzazat\",\"lihue\",\"enewetak\",\"vallenar\",\"trooz\",\"colon\",\"puerto leguizamo\",\"as sulayyil\",\"dazhou\",\"nzega\",\"nar'yan-mar\",\"kongwa\",\"luderitz\",\"bandon\",\"ceeldheer\",\"ouani\",\"kassala\",\"mahanoro\",\"walvis bay\",\"puerto deseado\",\"salahonda\",\"nanakuli\",\"nyurba\",\"wiradesa\",\"padangsidempuan\",\"richards bay\",\"lulea\",\"oppdal\",\"loen\",\"shannon\",\"grand falls-windsor\",\"nekrasovskiy\",\"amahai\",\"pamekasan\",\"mont-laurier\",\"mumbwa\",\"susangerd\",\"chisec\",\"el dorado\",\"kapoeta\",\"goundam\",\"nadi\",\"sidney\",\"quesnel\",\"piti village\",\"havre\",\"gokwe\",\"bejaia\",\"kloulklubed\",\"codajas\",\"urangan\",\"mocimboa\",\"santana\",\"fada\",\"champerico\",\"ronneby\",\"tarko-sale\",\"scarborough\",\"la ronge\",\"huacho\",\"burgas\",\"afua\",\"kirensk\",\"newnham\",\"kalabo\",\"guangyuan\",\"saldanha\",\"el bolson\",\"pathein\",\"fereydun kenar\",\"yamada\",\"itoman\",\"boa vista\",\"tianshui\",\"akureyri\",\"saint-philippe\",\"laguna\",\"san antonio\",\"benghazi\",\"pokaran\",\"tazovsky\",\"grand-bassam\",\"fortuna\",\"karratha\",\"nanga eboko\",\"yantzaza\",\"sinop\",\"fort dodge\",\"karukh\",\"linxia chengguanzhen\",\"kavaratti\",\"puerto maldonado\",\"rawson\",\"mega\",\"yarkovo\",\"ola\",\"buala\",\"ulsteinvik\",\"tan-tan\",\"sandnessjoen\",\"villa huidobro\",\"newman\",\"barra de santo antonio\",\"sinabang\",\"howrah\",\"varennes-vauzelles\",\"latakia\",\"ortaca\",\"el porvenir\",\"bubaque\",\"jabor\",\"sulak\",\"ziguinchor\",\"pong\",\"kapa'a\",\"rome\",\"beaufort\",\"vadso\",\"svetlograd\",\"colonia\",\"machulishchy\",\"eyl\",\"harjavalta\",\"uttarkashi\",\"mena\",\"sfizef\",\"nizhneudinsk\",\"sola\",\"katabu\",\"lompoc\",\"swiebodzice\",\"la mana\",\"kuala terengganu\",\"bouar\",\"maceio\",\"mujiayingzi\",\"hueyapan\",\"awjilah\",\"barra dos coqueiros\",\"jiuquan\",\"arkhangel'sk\",\"ribeira brava\",\"greenville\",\"cromer\",\"muurame\",\"novodvinsk\",\"mar del plata\",\"devonport\",\"hilo\",\"el granada\",\"corner brook\",\"tolanaro\",\"rib mountain\",\"santa cruz\",\"tralee\",\"tarrafal de sao nicolau\",\"pihuamo\",\"jiazi\",\"page\",\"camargo\",\"santa isabel\",\"vrede\",\"labytnangi\",\"sechura\",\"maragogi\",\"nova vicosa\",\"puerto plata\",\"dauphin\",\"marsabit\",\"kendari\",\"pemangkat\",\"cacule\",\"sooke\",\"loushanguan\",\"baoshan\",\"hami\",\"ndola\",\"port saint john's\",\"tamandare\",\"labrador city\",\"lakatoro\",\"arona\",\"mariehamn\",\"tocopilla\",\"ebon\",\"fort-de-france\",\"shalkar\",\"manokwari\",\"okha\",\"isanlu-itedoijowa\",\"ubari\",\"chandler\",\"kuqa\",\"palu\",\"nikel\",\"willows\"]}}},\"fill_color\":{\"type\":\"field\",\"field\":\"color\",\"transform\":{\"id\":\"p1066\"}},\"hatch_color\":{\"type\":\"field\",\"field\":\"color\",\"transform\":{\"id\":\"p1066\"}}}},\"selection_glyph\":{\"type\":\"object\",\"name\":\"Scatter\",\"id\":\"p1075\",\"attributes\":{\"tags\":[\"apply_ranges\"],\"x\":{\"type\":\"field\",\"field\":\"Lng\"},\"y\":{\"type\":\"field\",\"field\":\"Lat\"},\"size\":{\"type\":\"field\",\"field\":\"size\"},\"line_color\":{\"type\":\"field\",\"field\":\"color\",\"transform\":{\"id\":\"p1066\"}},\"fill_color\":{\"type\":\"field\",\"field\":\"color\",\"transform\":{\"id\":\"p1066\"}},\"hatch_color\":{\"type\":\"field\",\"field\":\"color\",\"transform\":{\"id\":\"p1066\"}}}},\"nonselection_glyph\":{\"type\":\"object\",\"name\":\"Scatter\",\"id\":\"p1074\",\"attributes\":{\"tags\":[\"apply_ranges\"],\"x\":{\"type\":\"field\",\"field\":\"Lng\"},\"y\":{\"type\":\"field\",\"field\":\"Lat\"},\"size\":{\"type\":\"field\",\"field\":\"size\"},\"line_color\":{\"type\":\"field\",\"field\":\"color\",\"transform\":{\"id\":\"p1066\"}},\"line_alpha\":{\"type\":\"value\",\"value\":0.1},\"fill_color\":{\"type\":\"field\",\"field\":\"color\",\"transform\":{\"id\":\"p1066\"}},\"fill_alpha\":{\"type\":\"value\",\"value\":0.1},\"hatch_color\":{\"type\":\"field\",\"field\":\"color\",\"transform\":{\"id\":\"p1066\"}},\"hatch_alpha\":{\"type\":\"value\",\"value\":0.1}}},\"hover_glyph\":{\"type\":\"object\",\"name\":\"Scatter\",\"id\":\"p1076\",\"attributes\":{\"tags\":[\"apply_ranges\"],\"x\":{\"type\":\"field\",\"field\":\"Lng\"},\"y\":{\"type\":\"field\",\"field\":\"Lat\"},\"size\":{\"type\":\"field\",\"field\":\"size\"},\"line_color\":{\"type\":\"field\",\"field\":\"color\",\"transform\":{\"id\":\"p1066\"}},\"fill_color\":{\"type\":\"field\",\"field\":\"color\",\"transform\":{\"id\":\"p1066\"}},\"hatch_color\":{\"type\":\"field\",\"field\":\"color\",\"transform\":{\"id\":\"p1066\"}}}},\"muted_glyph\":{\"type\":\"object\",\"name\":\"Scatter\",\"id\":\"p1077\",\"attributes\":{\"tags\":[\"apply_ranges\"],\"x\":{\"type\":\"field\",\"field\":\"Lng\"},\"y\":{\"type\":\"field\",\"field\":\"Lat\"},\"size\":{\"type\":\"field\",\"field\":\"size\"},\"line_color\":{\"type\":\"field\",\"field\":\"color\",\"transform\":{\"id\":\"p1066\"}},\"line_alpha\":{\"type\":\"value\",\"value\":0.2},\"fill_color\":{\"type\":\"field\",\"field\":\"color\",\"transform\":{\"id\":\"p1066\"}},\"fill_alpha\":{\"type\":\"value\",\"value\":0.2},\"hatch_color\":{\"type\":\"field\",\"field\":\"color\",\"transform\":{\"id\":\"p1066\"}},\"hatch_alpha\":{\"type\":\"value\",\"value\":0.2}}}}}],\"toolbar\":{\"type\":\"object\",\"name\":\"Toolbar\",\"id\":\"p1040\",\"attributes\":{\"tools\":[{\"type\":\"object\",\"name\":\"WheelZoomTool\",\"id\":\"p1025\",\"attributes\":{\"renderers\":\"auto\",\"zoom_on_axis\":false}},{\"type\":\"object\",\"name\":\"BoxZoomTool\",\"id\":\"p1026\",\"attributes\":{\"overlay\":{\"type\":\"object\",\"name\":\"BoxAnnotation\",\"id\":\"p1006\",\"attributes\":{\"syncable\":false,\"level\":\"overlay\",\"visible\":false,\"left_units\":\"canvas\",\"right_units\":\"canvas\",\"top_units\":\"canvas\",\"bottom_units\":\"canvas\",\"line_color\":\"black\",\"line_alpha\":1.0,\"line_width\":2,\"line_dash\":[4,4],\"fill_color\":\"lightgrey\",\"fill_alpha\":0.5}},\"match_aspect\":true}},{\"type\":\"object\",\"name\":\"PanTool\",\"id\":\"p1054\"},{\"type\":\"object\",\"name\":\"ResetTool\",\"id\":\"p1055\"}],\"active_drag\":{\"id\":\"p1054\"}}},\"left\":[{\"type\":\"object\",\"name\":\"LinearAxis\",\"id\":\"p1048\",\"attributes\":{\"ticker\":{\"type\":\"object\",\"name\":\"MercatorTicker\",\"id\":\"p1058\",\"attributes\":{\"mantissas\":[1,2,5],\"dimension\":\"lat\"}},\"formatter\":{\"type\":\"object\",\"name\":\"MercatorTickFormatter\",\"id\":\"p1059\",\"attributes\":{\"dimension\":\"lat\"}},\"axis_label\":\"Latitude\",\"major_label_policy\":{\"type\":\"object\",\"name\":\"AllLabels\",\"id\":\"p1051\"}}}],\"below\":[{\"type\":\"object\",\"name\":\"LinearAxis\",\"id\":\"p1043\",\"attributes\":{\"ticker\":{\"type\":\"object\",\"name\":\"MercatorTicker\",\"id\":\"p1056\",\"attributes\":{\"mantissas\":[1,2,5],\"dimension\":\"lon\"}},\"formatter\":{\"type\":\"object\",\"name\":\"MercatorTickFormatter\",\"id\":\"p1057\",\"attributes\":{\"dimension\":\"lon\"}},\"axis_label\":\"Longitude\",\"major_label_policy\":{\"type\":\"object\",\"name\":\"AllLabels\",\"id\":\"p1046\"}}}],\"center\":[{\"type\":\"object\",\"name\":\"Grid\",\"id\":\"p1047\",\"attributes\":{\"axis\":{\"id\":\"p1043\"},\"grid_line_color\":null}},{\"type\":\"object\",\"name\":\"Grid\",\"id\":\"p1052\",\"attributes\":{\"dimension\":1,\"axis\":{\"id\":\"p1048\"},\"grid_line_color\":null}},{\"type\":\"object\",\"name\":\"Legend\",\"id\":\"p1081\",\"attributes\":{\"click_policy\":\"mute\",\"items\":[{\"type\":\"object\",\"name\":\"LegendItem\",\"id\":\"p1082\",\"attributes\":{\"label\":{\"type\":\"field\",\"field\":\"color\"},\"renderers\":[{\"id\":\"p1078\"}]}}]}}],\"min_border_top\":10,\"min_border_bottom\":10,\"min_border_left\":10,\"min_border_right\":10,\"output_backend\":\"webgl\"}},{\"type\":\"object\",\"name\":\"Spacer\",\"id\":\"p1084\",\"attributes\":{\"name\":\"HSpacer03118\",\"stylesheets\":[\"\\n:host(.pn-loading.pn-arc):before, .pn-loading.pn-arc:before {\\n  background-image: url(\\\"data:image/svg+xml;base64,PHN2ZyB4bWxucz0iaHR0cDovL3d3dy53My5vcmcvMjAwMC9zdmciIHN0eWxlPSJtYXJnaW46IGF1dG87IGJhY2tncm91bmQ6IG5vbmU7IGRpc3BsYXk6IGJsb2NrOyBzaGFwZS1yZW5kZXJpbmc6IGF1dG87IiB2aWV3Qm94PSIwIDAgMTAwIDEwMCIgcHJlc2VydmVBc3BlY3RSYXRpbz0ieE1pZFlNaWQiPiAgPGNpcmNsZSBjeD0iNTAiIGN5PSI1MCIgZmlsbD0ibm9uZSIgc3Ryb2tlPSIjYzNjM2MzIiBzdHJva2Utd2lkdGg9IjEwIiByPSIzNSIgc3Ryb2tlLWRhc2hhcnJheT0iMTY0LjkzMzYxNDMxMzQ2NDE1IDU2Ljk3Nzg3MTQzNzgyMTM4Ij4gICAgPGFuaW1hdGVUcmFuc2Zvcm0gYXR0cmlidXRlTmFtZT0idHJhbnNmb3JtIiB0eXBlPSJyb3RhdGUiIHJlcGVhdENvdW50PSJpbmRlZmluaXRlIiBkdXI9IjFzIiB2YWx1ZXM9IjAgNTAgNTA7MzYwIDUwIDUwIiBrZXlUaW1lcz0iMDsxIj48L2FuaW1hdGVUcmFuc2Zvcm0+ICA8L2NpcmNsZT48L3N2Zz4=\\\");\\n  background-size: auto calc(min(50%, 400px));\\n}\",{\"id\":\"p1010\"},{\"id\":\"p1008\"},{\"id\":\"p1009\"}],\"margin\":0,\"sizing_mode\":\"stretch_width\",\"align\":\"start\"}}]}}],\"defs\":[{\"type\":\"model\",\"name\":\"ReactiveHTML1\"},{\"type\":\"model\",\"name\":\"FlexBox1\",\"properties\":[{\"name\":\"align_content\",\"kind\":\"Any\",\"default\":\"flex-start\"},{\"name\":\"align_items\",\"kind\":\"Any\",\"default\":\"flex-start\"},{\"name\":\"flex_direction\",\"kind\":\"Any\",\"default\":\"row\"},{\"name\":\"flex_wrap\",\"kind\":\"Any\",\"default\":\"wrap\"},{\"name\":\"justify_content\",\"kind\":\"Any\",\"default\":\"flex-start\"}]},{\"type\":\"model\",\"name\":\"FloatPanel1\",\"properties\":[{\"name\":\"config\",\"kind\":\"Any\",\"default\":{\"type\":\"map\"}},{\"name\":\"contained\",\"kind\":\"Any\",\"default\":true},{\"name\":\"position\",\"kind\":\"Any\",\"default\":\"right-top\"},{\"name\":\"offsetx\",\"kind\":\"Any\",\"default\":null},{\"name\":\"offsety\",\"kind\":\"Any\",\"default\":null},{\"name\":\"theme\",\"kind\":\"Any\",\"default\":\"primary\"},{\"name\":\"status\",\"kind\":\"Any\",\"default\":\"normalized\"}]},{\"type\":\"model\",\"name\":\"GridStack1\",\"properties\":[{\"name\":\"mode\",\"kind\":\"Any\",\"default\":\"warn\"},{\"name\":\"ncols\",\"kind\":\"Any\",\"default\":null},{\"name\":\"nrows\",\"kind\":\"Any\",\"default\":null},{\"name\":\"allow_resize\",\"kind\":\"Any\",\"default\":true},{\"name\":\"allow_drag\",\"kind\":\"Any\",\"default\":true},{\"name\":\"state\",\"kind\":\"Any\",\"default\":[]}]},{\"type\":\"model\",\"name\":\"drag1\",\"properties\":[{\"name\":\"slider_width\",\"kind\":\"Any\",\"default\":5},{\"name\":\"slider_color\",\"kind\":\"Any\",\"default\":\"black\"},{\"name\":\"value\",\"kind\":\"Any\",\"default\":50}]},{\"type\":\"model\",\"name\":\"click1\",\"properties\":[{\"name\":\"terminal_output\",\"kind\":\"Any\",\"default\":\"\"},{\"name\":\"debug_name\",\"kind\":\"Any\",\"default\":\"\"},{\"name\":\"clears\",\"kind\":\"Any\",\"default\":0}]},{\"type\":\"model\",\"name\":\"toggle_value1\",\"properties\":[{\"name\":\"active_icons\",\"kind\":\"Any\",\"default\":{\"type\":\"map\"}},{\"name\":\"options\",\"kind\":\"Any\",\"default\":{\"type\":\"map\",\"entries\":[[\"favorite\",\"heart\"]]}},{\"name\":\"value\",\"kind\":\"Any\",\"default\":[]},{\"name\":\"_reactions\",\"kind\":\"Any\",\"default\":[]},{\"name\":\"_base_url\",\"kind\":\"Any\",\"default\":\"https://tabler-icons.io/static/tabler-icons/icons/\"}]},{\"type\":\"model\",\"name\":\"copy_to_clipboard1\",\"properties\":[{\"name\":\"value\",\"kind\":\"Any\",\"default\":null},{\"name\":\"fill\",\"kind\":\"Any\",\"default\":\"none\"}]},{\"type\":\"model\",\"name\":\"FastWrapper1\",\"properties\":[{\"name\":\"object\",\"kind\":\"Any\",\"default\":null},{\"name\":\"style\",\"kind\":\"Any\",\"default\":null}]},{\"type\":\"model\",\"name\":\"NotificationAreaBase1\",\"properties\":[{\"name\":\"js_events\",\"kind\":\"Any\",\"default\":{\"type\":\"map\"}},{\"name\":\"position\",\"kind\":\"Any\",\"default\":\"bottom-right\"},{\"name\":\"_clear\",\"kind\":\"Any\",\"default\":0}]},{\"type\":\"model\",\"name\":\"NotificationArea1\",\"properties\":[{\"name\":\"js_events\",\"kind\":\"Any\",\"default\":{\"type\":\"map\"}},{\"name\":\"notifications\",\"kind\":\"Any\",\"default\":[]},{\"name\":\"position\",\"kind\":\"Any\",\"default\":\"bottom-right\"},{\"name\":\"_clear\",\"kind\":\"Any\",\"default\":0},{\"name\":\"types\",\"kind\":\"Any\",\"default\":[{\"type\":\"map\",\"entries\":[[\"type\",\"warning\"],[\"background\",\"#ffc107\"],[\"icon\",{\"type\":\"map\",\"entries\":[[\"className\",\"fas fa-exclamation-triangle\"],[\"tagName\",\"i\"],[\"color\",\"white\"]]}]]},{\"type\":\"map\",\"entries\":[[\"type\",\"info\"],[\"background\",\"#007bff\"],[\"icon\",{\"type\":\"map\",\"entries\":[[\"className\",\"fas fa-info-circle\"],[\"tagName\",\"i\"],[\"color\",\"white\"]]}]]}]}]},{\"type\":\"model\",\"name\":\"Notification\",\"properties\":[{\"name\":\"background\",\"kind\":\"Any\",\"default\":null},{\"name\":\"duration\",\"kind\":\"Any\",\"default\":3000},{\"name\":\"icon\",\"kind\":\"Any\",\"default\":null},{\"name\":\"message\",\"kind\":\"Any\",\"default\":\"\"},{\"name\":\"notification_type\",\"kind\":\"Any\",\"default\":null},{\"name\":\"_destroyed\",\"kind\":\"Any\",\"default\":false}]},{\"type\":\"model\",\"name\":\"TemplateActions1\",\"properties\":[{\"name\":\"open_modal\",\"kind\":\"Any\",\"default\":0},{\"name\":\"close_modal\",\"kind\":\"Any\",\"default\":0}]},{\"type\":\"model\",\"name\":\"BootstrapTemplateActions1\",\"properties\":[{\"name\":\"open_modal\",\"kind\":\"Any\",\"default\":0},{\"name\":\"close_modal\",\"kind\":\"Any\",\"default\":0}]},{\"type\":\"model\",\"name\":\"MaterialTemplateActions1\",\"properties\":[{\"name\":\"open_modal\",\"kind\":\"Any\",\"default\":0},{\"name\":\"close_modal\",\"kind\":\"Any\",\"default\":0}]}]}};\n",
       "  var render_items = [{\"docid\":\"abf55473-f0e2-464b-abf5-75907c05d235\",\"roots\":{\"p1007\":\"f0c47075-8d0e-4efa-aad7-bbc973db497e\"},\"root_ids\":[\"p1007\"]}];\n",
       "  var docs = Object.values(docs_json)\n",
       "  if (!docs) {\n",
       "    return\n",
       "  }\n",
       "  const py_version = docs[0].version.replace('rc', '-rc.').replace('.dev', '-dev.')\n",
       "  function embed_document(root) {\n",
       "    var Bokeh = get_bokeh(root)\n",
       "    Bokeh.embed.embed_items_notebook(docs_json, render_items);\n",
       "    for (const render_item of render_items) {\n",
       "      for (const root_id of render_item.root_ids) {\n",
       "\tconst id_el = document.getElementById(root_id)\n",
       "\tif (id_el.children.length && (id_el.children[0].className === 'bk-root')) {\n",
       "\t  const root_el = id_el.children[0]\n",
       "\t  root_el.id = root_el.id + '-rendered'\n",
       "\t}\n",
       "      }\n",
       "    }\n",
       "  }\n",
       "  function get_bokeh(root) {\n",
       "    if (root.Bokeh === undefined) {\n",
       "      return null\n",
       "    } else if (root.Bokeh.version !== py_version) {\n",
       "      if (root.Bokeh.versions === undefined || !root.Bokeh.versions.has(py_version)) {\n",
       "\treturn null\n",
       "      }\n",
       "      return root.Bokeh.versions.get(py_version);\n",
       "    } else if (root.Bokeh.version === py_version) {\n",
       "      return root.Bokeh\n",
       "    }\n",
       "    return null\n",
       "  }\n",
       "  function is_loaded(root) {\n",
       "    var Bokeh = get_bokeh(root)\n",
       "    return (Bokeh != null && Bokeh.Panel !== undefined)\n",
       "  }\n",
       "  if (is_loaded(root)) {\n",
       "    embed_document(root);\n",
       "  } else {\n",
       "    var attempts = 0;\n",
       "    var timer = setInterval(function(root) {\n",
       "      if (is_loaded(root)) {\n",
       "        clearInterval(timer);\n",
       "        embed_document(root);\n",
       "      } else if (document.readyState == \"complete\") {\n",
       "        attempts++;\n",
       "        if (attempts > 200) {\n",
       "          clearInterval(timer);\n",
       "\t  var Bokeh = get_bokeh(root)\n",
       "\t  if (Bokeh == null || Bokeh.Panel == null) {\n",
       "            console.warn(\"Panel: ERROR: Unable to run Panel code because Bokeh or Panel library is missing\");\n",
       "\t  } else {\n",
       "\t    console.warn(\"Panel: WARNING: Attempting to render but not all required libraries could be resolved.\")\n",
       "\t    embed_document(root)\n",
       "\t  }\n",
       "        }\n",
       "      }\n",
       "    }, 25, root)\n",
       "  }\n",
       "})(window);</script>"
      ],
      "text/plain": [
       ":Overlay\n",
       "   .WMTS.I   :WMTS   [Longitude,Latitude]\n",
       "   .Points.I :Points   [Lng,Lat]   (City,Humidity)"
      ]
     },
     "execution_count": 3,
     "metadata": {
      "application/vnd.holoviews_exec.v0+json": {
       "id": "p1007"
      }
     },
     "output_type": "execute_result"
    }
   ],
   "source": [
    "%matplotlib inline\n",
    "\n",
    "# Create a GeoViews Dataset\n",
    "gdf = gv.Dataset(city_data_df, kdims=['Lng', 'Lat'], vdims=['City', 'Humidity'])\n",
    "\n",
    "# Create a GeoViews Points element with Humidity as the size\n",
    "scatter_plot = gdf.to(gv.Points, kdims=['Lng', 'Lat'], vdims=['City', 'Humidity']).opts(\n",
    "size=hv.dim('Humidity') * 0.07, \n",
    "color='City',\n",
    ") \n",
    "\n",
    "\n",
    "# Create a base map\n",
    "tiles = gts.CartoLight\n",
    "\n",
    "# Overlay the points on the base map\n",
    "city_map = tiles * scatter_plot\n",
    "\n",
    "# Create a separate legend\n",
    "legend = hv.NdOverlay({city: hv.Points([0, 0], label=city).opts(color=color)\n",
    "                      for city, color in zip(city_data_df['City'], scatter_plot.opts['color'])})\n",
    "\n",
    "# Convert GeoViews plot to Matplotlib plot\n",
    "#mpl_plot = gv.render(city_map, backend='matplotlib')\n",
    "city_map.opts(width=800, height=500)\n",
    "# Display the Matplotlib plot\n",
    "#mpl_plot = gv.render(city_map, backend='matplotlib')\n",
    "#plt.show()"
   ]
  },
  {
   "cell_type": "markdown",
   "metadata": {},
   "source": [
    "### Step 2: Narrow down the `city_data_df` DataFrame to find your ideal weather condition"
   ]
  },
  {
   "cell_type": "code",
   "execution_count": 5,
   "metadata": {},
   "outputs": [
    {
     "name": "stdout",
     "output_type": "stream",
     "text": [
      "     City_ID           City      Lat       Lng  Max Temp  Humidity  \\\n",
      "69        69      carnarvon -24.8667  113.6333    299.32        31   \n",
      "76        76        banfora  10.6333   -4.7667    297.70        14   \n",
      "303      303        salalah  17.0151   54.0924    295.20        28   \n",
      "350      350  yung shue wan  22.2333  114.1167    296.86        86   \n",
      "379      379       vallenar -28.5708  -70.7581    296.28        43   \n",
      "\n",
      "     Cloudiness  Wind Speed Country        Date  Max Temp (C)  \n",
      "69            0        2.88      AU  1702337296         26.17  \n",
      "76            0        1.98      BF  1702337139         24.55  \n",
      "303           0        3.09      OM  1702337425         22.05  \n",
      "350           0        2.21      HK  1702337090         23.71  \n",
      "379           0        1.49      CL  1702337468         23.13  \n"
     ]
    }
   ],
   "source": [
    "# Convert Kelvin to Celsius\n",
    "city_data_df['Max Temp (C)'] = city_data_df['Max Temp'] - 273.15\n",
    "\n",
    "# Adjusted criteria for broader temperature range\n",
    "adjusted_weather_df = city_data_df[\n",
    "    (city_data_df['Max Temp (C)'] < 27) & (city_data_df['Max Temp (C)'] > 21) &\n",
    "    (city_data_df['Wind Speed'] < 4.5) & (city_data_df['Cloudiness'] == 0)\n",
    "]\n",
    "\n",
    "# Drop any rows with null values\n",
    "adjusted_weather_df = adjusted_weather_df.dropna()\n",
    "\n",
    "# Display sample data\n",
    "print(adjusted_weather_df.head())\n"
   ]
  },
  {
   "cell_type": "markdown",
   "metadata": {},
   "source": [
    "### Step 3: Create a new DataFrame called `hotel_df`."
   ]
  },
  {
   "cell_type": "code",
   "execution_count": 6,
   "metadata": {},
   "outputs": [
    {
     "name": "stdout",
     "output_type": "stream",
     "text": [
      "              City      Lat       Lng  Humidity Hotel Name\n",
      "69       carnarvon -24.8667  113.6333        31           \n",
      "76         banfora  10.6333   -4.7667        14           \n",
      "303        salalah  17.0151   54.0924        28           \n",
      "350  yung shue wan  22.2333  114.1167        86           \n",
      "379       vallenar -28.5708  -70.7581        43           \n"
     ]
    }
   ],
   "source": [
    "# Assuming 'adjusted_weather_df' is your DataFrame with adjusted weather conditions\n",
    "hotel_df = adjusted_weather_df[['City', 'Lat', 'Lng', 'Humidity']].copy()\n",
    "\n",
    "# Add an empty column for \"Hotel Name\"\n",
    "hotel_df['Hotel Name'] = \"\"\n",
    "\n",
    "# Display sample data\n",
    "print(hotel_df.head())\n"
   ]
  },
  {
   "cell_type": "markdown",
   "metadata": {},
   "source": [
    "### Step 4: For each city, use the Geoapify API to find the first hotel located within 10,000 metres of your coordinates."
   ]
  },
  {
   "cell_type": "code",
   "execution_count": 7,
   "metadata": {},
   "outputs": [
    {
     "name": "stdout",
     "output_type": "stream",
     "text": [
      "Starting hotel search\n",
      "carnarvon - nearest hotel: No hotel found\n",
      "banfora - nearest hotel: No hotel found\n",
      "salalah - nearest hotel: No hotel found\n",
      "yung shue wan - nearest hotel: No hotel found\n",
      "vallenar - nearest hotel: No hotel found\n",
      "karratha - nearest hotel: No hotel found\n",
      "ziguinchor - nearest hotel: No hotel found\n",
      "maceio - nearest hotel: No hotel found\n",
      "chandler - nearest hotel: No hotel found\n"
     ]
    },
    {
     "data": {
      "text/html": [
       "<div>\n",
       "<style scoped>\n",
       "    .dataframe tbody tr th:only-of-type {\n",
       "        vertical-align: middle;\n",
       "    }\n",
       "\n",
       "    .dataframe tbody tr th {\n",
       "        vertical-align: top;\n",
       "    }\n",
       "\n",
       "    .dataframe thead th {\n",
       "        text-align: right;\n",
       "    }\n",
       "</style>\n",
       "<table border=\"1\" class=\"dataframe\">\n",
       "  <thead>\n",
       "    <tr style=\"text-align: right;\">\n",
       "      <th></th>\n",
       "      <th>City</th>\n",
       "      <th>Lat</th>\n",
       "      <th>Lng</th>\n",
       "      <th>Humidity</th>\n",
       "      <th>Hotel Name</th>\n",
       "    </tr>\n",
       "  </thead>\n",
       "  <tbody>\n",
       "    <tr>\n",
       "      <th>69</th>\n",
       "      <td>carnarvon</td>\n",
       "      <td>-24.8667</td>\n",
       "      <td>113.6333</td>\n",
       "      <td>31</td>\n",
       "      <td>No hotel found</td>\n",
       "    </tr>\n",
       "    <tr>\n",
       "      <th>76</th>\n",
       "      <td>banfora</td>\n",
       "      <td>10.6333</td>\n",
       "      <td>-4.7667</td>\n",
       "      <td>14</td>\n",
       "      <td>No hotel found</td>\n",
       "    </tr>\n",
       "    <tr>\n",
       "      <th>303</th>\n",
       "      <td>salalah</td>\n",
       "      <td>17.0151</td>\n",
       "      <td>54.0924</td>\n",
       "      <td>28</td>\n",
       "      <td>No hotel found</td>\n",
       "    </tr>\n",
       "    <tr>\n",
       "      <th>350</th>\n",
       "      <td>yung shue wan</td>\n",
       "      <td>22.2333</td>\n",
       "      <td>114.1167</td>\n",
       "      <td>86</td>\n",
       "      <td>No hotel found</td>\n",
       "    </tr>\n",
       "    <tr>\n",
       "      <th>379</th>\n",
       "      <td>vallenar</td>\n",
       "      <td>-28.5708</td>\n",
       "      <td>-70.7581</td>\n",
       "      <td>43</td>\n",
       "      <td>No hotel found</td>\n",
       "    </tr>\n",
       "    <tr>\n",
       "      <th>459</th>\n",
       "      <td>karratha</td>\n",
       "      <td>-20.7377</td>\n",
       "      <td>116.8463</td>\n",
       "      <td>44</td>\n",
       "      <td>No hotel found</td>\n",
       "    </tr>\n",
       "    <tr>\n",
       "      <th>488</th>\n",
       "      <td>ziguinchor</td>\n",
       "      <td>12.5833</td>\n",
       "      <td>-16.2719</td>\n",
       "      <td>52</td>\n",
       "      <td>No hotel found</td>\n",
       "    </tr>\n",
       "    <tr>\n",
       "      <th>510</th>\n",
       "      <td>maceio</td>\n",
       "      <td>-9.6658</td>\n",
       "      <td>-35.7353</td>\n",
       "      <td>94</td>\n",
       "      <td>No hotel found</td>\n",
       "    </tr>\n",
       "    <tr>\n",
       "      <th>567</th>\n",
       "      <td>chandler</td>\n",
       "      <td>33.3062</td>\n",
       "      <td>-111.8412</td>\n",
       "      <td>18</td>\n",
       "      <td>No hotel found</td>\n",
       "    </tr>\n",
       "  </tbody>\n",
       "</table>\n",
       "</div>"
      ],
      "text/plain": [
       "              City      Lat       Lng  Humidity      Hotel Name\n",
       "69       carnarvon -24.8667  113.6333        31  No hotel found\n",
       "76         banfora  10.6333   -4.7667        14  No hotel found\n",
       "303        salalah  17.0151   54.0924        28  No hotel found\n",
       "350  yung shue wan  22.2333  114.1167        86  No hotel found\n",
       "379       vallenar -28.5708  -70.7581        43  No hotel found\n",
       "459       karratha -20.7377  116.8463        44  No hotel found\n",
       "488     ziguinchor  12.5833  -16.2719        52  No hotel found\n",
       "510         maceio  -9.6658  -35.7353        94  No hotel found\n",
       "567       chandler  33.3062 -111.8412        18  No hotel found"
      ]
     },
     "execution_count": 7,
     "metadata": {},
     "output_type": "execute_result"
    }
   ],
   "source": [
    "# Set parameters to search for a hotel\n",
    "radius = 10000  # Assuming you want to search within a 10,000 meters radius\n",
    "params = {\n",
    "    'categories': 'hotel',\n",
    "    'radius': radius,\n",
    "    'limit': 1,  # Limit to the first result\n",
    "    'apiKey': geoapify_key  # Replace with your actual Geoapify API key\n",
    "}\n",
    "\n",
    "# Print a message to follow up the hotel search\n",
    "print(\"Starting hotel search\")\n",
    "\n",
    "# Iterate through the hotel_df DataFrame\n",
    "for index, row in hotel_df.iterrows():\n",
    "    # Get latitude, longitude from the DataFrame\n",
    "    lat, lon = row['Lat'], row['Lng']\n",
    "    \n",
    "    # Add filter and bias parameters with the current city's latitude and longitude to the params dictionary\n",
    "    params[\"filter\"] = f\"point:{lon},{lat}\"\n",
    "    params[\"bias\"] = f\"circle:{radius}@{lon},{lat}\"\n",
    "    \n",
    "    # Set base URL\n",
    "    base_url = \"https://api.geoapify.com/v2/places\"\n",
    "\n",
    "    # Make an API request using the params dictionary\n",
    "    response = requests.get(base_url, params=params)\n",
    "\n",
    "    # Convert the API response to JSON format\n",
    "    name_address = response.json()\n",
    "\n",
    "    # Grab the first hotel from the results and store the name in the hotel_df DataFrame\n",
    "    try:\n",
    "        hotel_df.loc[index, \"Hotel Name\"] = name_address[\"features\"][0][\"properties\"][\"name\"]\n",
    "    except (KeyError, IndexError):\n",
    "        # If no hotel is found, set the hotel name as \"No hotel found\".\n",
    "        hotel_df.loc[index, \"Hotel Name\"] = \"No hotel found\"\n",
    "        \n",
    "    # Log the search results\n",
    "    print(f\"{hotel_df.loc[index, 'City']} - nearest hotel: {hotel_df.loc[index, 'Hotel Name']}\")\n",
    "\n",
    "# Display sample data\n",
    "hotel_df\n"
   ]
  },
  {
   "cell_type": "markdown",
   "metadata": {},
   "source": [
    "### Step 5: Add the hotel name and the country as additional information in the hover message for each city in the map."
   ]
  },
  {
   "cell_type": "code",
   "execution_count": 8,
   "metadata": {},
   "outputs": [
    {
     "data": {},
     "metadata": {},
     "output_type": "display_data"
    },
    {
     "data": {
      "application/vnd.holoviews_exec.v0+json": "",
      "text/html": [
       "<div id='p1091'>\n",
       "  <div id=\"ea5f5d66-b253-42a7-b9ee-d4b2d02657f0\" data-root-id=\"p1091\" style=\"display: contents;\"></div>\n",
       "</div>\n",
       "<script type=\"application/javascript\">(function(root) {\n",
       "  var docs_json = {\"cab5f151-ee0e-41c3-906b-2af1918f7c25\":{\"version\":\"3.3.0\",\"title\":\"Bokeh Application\",\"roots\":[{\"type\":\"object\",\"name\":\"Row\",\"id\":\"p1091\",\"attributes\":{\"name\":\"Row03213\",\"tags\":[\"embedded\"],\"stylesheets\":[\"\\n:host(.pn-loading.pn-arc):before, .pn-loading.pn-arc:before {\\n  background-image: url(\\\"data:image/svg+xml;base64,PHN2ZyB4bWxucz0iaHR0cDovL3d3dy53My5vcmcvMjAwMC9zdmciIHN0eWxlPSJtYXJnaW46IGF1dG87IGJhY2tncm91bmQ6IG5vbmU7IGRpc3BsYXk6IGJsb2NrOyBzaGFwZS1yZW5kZXJpbmc6IGF1dG87IiB2aWV3Qm94PSIwIDAgMTAwIDEwMCIgcHJlc2VydmVBc3BlY3RSYXRpbz0ieE1pZFlNaWQiPiAgPGNpcmNsZSBjeD0iNTAiIGN5PSI1MCIgZmlsbD0ibm9uZSIgc3Ryb2tlPSIjYzNjM2MzIiBzdHJva2Utd2lkdGg9IjEwIiByPSIzNSIgc3Ryb2tlLWRhc2hhcnJheT0iMTY0LjkzMzYxNDMxMzQ2NDE1IDU2Ljk3Nzg3MTQzNzgyMTM4Ij4gICAgPGFuaW1hdGVUcmFuc2Zvcm0gYXR0cmlidXRlTmFtZT0idHJhbnNmb3JtIiB0eXBlPSJyb3RhdGUiIHJlcGVhdENvdW50PSJpbmRlZmluaXRlIiBkdXI9IjFzIiB2YWx1ZXM9IjAgNTAgNTA7MzYwIDUwIDUwIiBrZXlUaW1lcz0iMDsxIj48L2FuaW1hdGVUcmFuc2Zvcm0+ICA8L2NpcmNsZT48L3N2Zz4=\\\");\\n  background-size: auto calc(min(50%, 400px));\\n}\",{\"type\":\"object\",\"name\":\"ImportedStyleSheet\",\"id\":\"p1094\",\"attributes\":{\"url\":\"https://cdn.holoviz.org/panel/1.3.4/dist/css/loading.css\"}},{\"type\":\"object\",\"name\":\"ImportedStyleSheet\",\"id\":\"p1174\",\"attributes\":{\"url\":\"https://cdn.holoviz.org/panel/1.3.4/dist/css/listpanel.css\"}},{\"type\":\"object\",\"name\":\"ImportedStyleSheet\",\"id\":\"p1092\",\"attributes\":{\"url\":\"https://cdn.holoviz.org/panel/1.3.4/dist/bundled/theme/default.css\"}},{\"type\":\"object\",\"name\":\"ImportedStyleSheet\",\"id\":\"p1093\",\"attributes\":{\"url\":\"https://cdn.holoviz.org/panel/1.3.4/dist/bundled/theme/native.css\"}}],\"min_width\":800,\"margin\":0,\"sizing_mode\":\"stretch_width\",\"align\":\"start\",\"children\":[{\"type\":\"object\",\"name\":\"Spacer\",\"id\":\"p1095\",\"attributes\":{\"name\":\"HSpacer03223\",\"stylesheets\":[\"\\n:host(.pn-loading.pn-arc):before, .pn-loading.pn-arc:before {\\n  background-image: url(\\\"data:image/svg+xml;base64,PHN2ZyB4bWxucz0iaHR0cDovL3d3dy53My5vcmcvMjAwMC9zdmciIHN0eWxlPSJtYXJnaW46IGF1dG87IGJhY2tncm91bmQ6IG5vbmU7IGRpc3BsYXk6IGJsb2NrOyBzaGFwZS1yZW5kZXJpbmc6IGF1dG87IiB2aWV3Qm94PSIwIDAgMTAwIDEwMCIgcHJlc2VydmVBc3BlY3RSYXRpbz0ieE1pZFlNaWQiPiAgPGNpcmNsZSBjeD0iNTAiIGN5PSI1MCIgZmlsbD0ibm9uZSIgc3Ryb2tlPSIjYzNjM2MzIiBzdHJva2Utd2lkdGg9IjEwIiByPSIzNSIgc3Ryb2tlLWRhc2hhcnJheT0iMTY0LjkzMzYxNDMxMzQ2NDE1IDU2Ljk3Nzg3MTQzNzgyMTM4Ij4gICAgPGFuaW1hdGVUcmFuc2Zvcm0gYXR0cmlidXRlTmFtZT0idHJhbnNmb3JtIiB0eXBlPSJyb3RhdGUiIHJlcGVhdENvdW50PSJpbmRlZmluaXRlIiBkdXI9IjFzIiB2YWx1ZXM9IjAgNTAgNTA7MzYwIDUwIDUwIiBrZXlUaW1lcz0iMDsxIj48L2FuaW1hdGVUcmFuc2Zvcm0+ICA8L2NpcmNsZT48L3N2Zz4=\\\");\\n  background-size: auto calc(min(50%, 400px));\\n}\",{\"id\":\"p1094\"},{\"id\":\"p1092\"},{\"id\":\"p1093\"}],\"margin\":0,\"sizing_mode\":\"stretch_width\",\"align\":\"start\"}},{\"type\":\"object\",\"name\":\"Figure\",\"id\":\"p1116\",\"attributes\":{\"width\":800,\"height\":500,\"margin\":[5,10],\"sizing_mode\":\"fixed\",\"align\":\"start\",\"x_range\":{\"type\":\"object\",\"name\":\"Range1d\",\"id\":\"p1105\",\"attributes\":{\"tags\":[[[\"Longitude\",\"Longitude\",null]],[]],\"start\":-14041191.31164846,\"end\":14598356.495017886,\"reset_start\":-14041191.31164846,\"reset_end\":14598356.495017886,\"min_interval\":5}},\"y_range\":{\"type\":\"object\",\"name\":\"Range1d\",\"id\":\"p1106\",\"attributes\":{\"tags\":[[[\"Latitude\",\"Latitude\",null]],{\"type\":\"map\",\"entries\":[[\"invert_yaxis\",false],[\"autorange\",false]]}],\"start\":-4046845.81951078,\"end\":4661732.504003192,\"reset_start\":-4046845.81951078,\"reset_end\":4661732.504003192,\"min_interval\":5}},\"x_scale\":{\"type\":\"object\",\"name\":\"LinearScale\",\"id\":\"p1126\"},\"y_scale\":{\"type\":\"object\",\"name\":\"LinearScale\",\"id\":\"p1127\"},\"title\":{\"type\":\"object\",\"name\":\"Title\",\"id\":\"p1119\",\"attributes\":{\"text\":\"City Locations\",\"text_color\":\"black\",\"text_font_size\":\"12pt\"}},\"renderers\":[{\"type\":\"object\",\"name\":\"TileRenderer\",\"id\":\"p1149\",\"attributes\":{\"level\":\"underlay\",\"tile_source\":{\"type\":\"object\",\"name\":\"WMTSTileSource\",\"id\":\"p1145\",\"attributes\":{\"url\":\"https://server.arcgisonline.com/ArcGIS/rest/services/World_Imagery/MapServer/tile/{Z}/{Y}/{X}.jpg\",\"attribution\":\"&copy; <a href=\\\"http://downloads.esri.com/ArcGISOnline/docs/tou_summary.pdf\\\">Esri</a>, Earthstar Geographics\"}}}},{\"type\":\"object\",\"name\":\"GlyphRenderer\",\"id\":\"p1163\",\"attributes\":{\"name\":\"City Locations\",\"data_source\":{\"type\":\"object\",\"name\":\"ColumnDataSource\",\"id\":\"p1153\",\"attributes\":{\"selected\":{\"type\":\"object\",\"name\":\"Selection\",\"id\":\"p1154\",\"attributes\":{\"indices\":[],\"line_indices\":[]}},\"selection_policy\":{\"type\":\"object\",\"name\":\"UnionRenderers\",\"id\":\"p1155\"},\"data\":{\"type\":\"map\",\"entries\":[[\"Lng\",{\"type\":\"ndarray\",\"array\":{\"type\":\"bytes\",\"data\":\"TSn7IpAgaEG8h8g7hTEgwbVPH5to+FZBmZfrndY6aEFAAlbqJAxewaMav9M0z2hBXQ9Ln7OjO8Gyux2zmVlOwRnx4C0nv2fB\"},\"shape\":[9],\"dtype\":\"float64\",\"order\":\"little\"}],[\"Lat\",{\"type\":\"ndarray\",\"array\":{\"type\":\"bytes\",\"data\":\"3sWeSrrQRcEko6Z5kyoyQcFbBNcWVj1BkKoJahNgQ0HvJwGLlVZJwe1qW7qaAkLBqumcx0SMNUH9Ad5ILH8wwQi3ceOIB05B\"},\"shape\":[9],\"dtype\":\"float64\",\"order\":\"little\"}],[\"City\",[\"carnarvon\",\"banfora\",\"salalah\",\"yung shue wan\",\"vallenar\",\"karratha\",\"ziguinchor\",\"maceio\",\"chandler\"]],[\"Humidity\",{\"type\":\"ndarray\",\"array\":{\"type\":\"bytes\",\"data\":\"HwAAAA4AAAAcAAAAVgAAACsAAAAsAAAANAAAAF4AAAASAAAA\"},\"shape\":[9],\"dtype\":\"int32\",\"order\":\"little\"}],[\"Hotel_Name\",[\"No hotel found\",\"No hotel found\",\"No hotel found\",\"No hotel found\",\"No hotel found\",\"No hotel found\",\"No hotel found\",\"No hotel found\",\"No hotel found\"]]]}}},\"view\":{\"type\":\"object\",\"name\":\"CDSView\",\"id\":\"p1164\",\"attributes\":{\"filter\":{\"type\":\"object\",\"name\":\"AllIndices\",\"id\":\"p1165\"}}},\"glyph\":{\"type\":\"object\",\"name\":\"Scatter\",\"id\":\"p1159\",\"attributes\":{\"tags\":[\"apply_ranges\"],\"x\":{\"type\":\"field\",\"field\":\"Lng\"},\"y\":{\"type\":\"field\",\"field\":\"Lat\"},\"size\":{\"type\":\"value\",\"value\":10},\"line_color\":{\"type\":\"value\",\"value\":\"pink\"},\"fill_color\":{\"type\":\"value\",\"value\":\"pink\"},\"hatch_color\":{\"type\":\"value\",\"value\":\"pink\"}}},\"selection_glyph\":{\"type\":\"object\",\"name\":\"Scatter\",\"id\":\"p1170\",\"attributes\":{\"tags\":[\"apply_ranges\"],\"x\":{\"type\":\"field\",\"field\":\"Lng\"},\"y\":{\"type\":\"field\",\"field\":\"Lat\"},\"size\":{\"type\":\"value\",\"value\":10},\"angle\":{\"type\":\"value\",\"value\":0.0},\"line_color\":{\"type\":\"value\",\"value\":\"pink\"},\"line_alpha\":{\"type\":\"value\",\"value\":1.0},\"line_width\":{\"type\":\"value\",\"value\":1},\"line_join\":{\"type\":\"value\",\"value\":\"bevel\"},\"line_cap\":{\"type\":\"value\",\"value\":\"butt\"},\"line_dash\":{\"type\":\"value\",\"value\":[]},\"line_dash_offset\":{\"type\":\"value\",\"value\":0},\"fill_color\":{\"type\":\"value\",\"value\":\"pink\"},\"fill_alpha\":{\"type\":\"value\",\"value\":1.0},\"hatch_color\":{\"type\":\"value\",\"value\":\"pink\"},\"hatch_alpha\":{\"type\":\"value\",\"value\":1.0},\"hatch_scale\":{\"type\":\"value\",\"value\":12.0},\"hatch_pattern\":{\"type\":\"value\",\"value\":null},\"hatch_weight\":{\"type\":\"value\",\"value\":1.0},\"marker\":{\"type\":\"value\",\"value\":\"circle\"}}},\"nonselection_glyph\":{\"type\":\"object\",\"name\":\"Scatter\",\"id\":\"p1160\",\"attributes\":{\"tags\":[\"apply_ranges\"],\"x\":{\"type\":\"field\",\"field\":\"Lng\"},\"y\":{\"type\":\"field\",\"field\":\"Lat\"},\"size\":{\"type\":\"value\",\"value\":10},\"line_color\":{\"type\":\"value\",\"value\":\"pink\"},\"line_alpha\":{\"type\":\"value\",\"value\":0.1},\"fill_color\":{\"type\":\"value\",\"value\":\"pink\"},\"fill_alpha\":{\"type\":\"value\",\"value\":0.1},\"hatch_color\":{\"type\":\"value\",\"value\":\"pink\"},\"hatch_alpha\":{\"type\":\"value\",\"value\":0.1}}},\"hover_glyph\":{\"type\":\"object\",\"name\":\"Scatter\",\"id\":\"p1161\",\"attributes\":{\"tags\":[\"apply_ranges\"],\"x\":{\"type\":\"field\",\"field\":\"Lng\"},\"y\":{\"type\":\"field\",\"field\":\"Lat\"},\"size\":{\"type\":\"value\",\"value\":10},\"fill_color\":{\"type\":\"value\",\"value\":\"pink\"},\"hatch_color\":{\"type\":\"value\",\"value\":\"pink\"}}},\"muted_glyph\":{\"type\":\"object\",\"name\":\"Scatter\",\"id\":\"p1162\",\"attributes\":{\"tags\":[\"apply_ranges\"],\"x\":{\"type\":\"field\",\"field\":\"Lng\"},\"y\":{\"type\":\"field\",\"field\":\"Lat\"},\"size\":{\"type\":\"value\",\"value\":10},\"line_color\":{\"type\":\"value\",\"value\":\"pink\"},\"line_alpha\":{\"type\":\"value\",\"value\":0.2},\"fill_color\":{\"type\":\"value\",\"value\":\"pink\"},\"fill_alpha\":{\"type\":\"value\",\"value\":0.2},\"hatch_color\":{\"type\":\"value\",\"value\":\"pink\"},\"hatch_alpha\":{\"type\":\"value\",\"value\":0.2}}}}}],\"toolbar\":{\"type\":\"object\",\"name\":\"Toolbar\",\"id\":\"p1125\",\"attributes\":{\"tools\":[{\"type\":\"object\",\"name\":\"WheelZoomTool\",\"id\":\"p1109\",\"attributes\":{\"renderers\":\"auto\",\"zoom_on_axis\":false}},{\"type\":\"object\",\"name\":\"BoxZoomTool\",\"id\":\"p1110\",\"attributes\":{\"overlay\":{\"type\":\"object\",\"name\":\"BoxAnnotation\",\"id\":\"p1006\",\"attributes\":{\"syncable\":false,\"level\":\"overlay\",\"visible\":false,\"left_units\":\"canvas\",\"right_units\":\"canvas\",\"top_units\":\"canvas\",\"bottom_units\":\"canvas\",\"line_color\":\"black\",\"line_alpha\":1.0,\"line_width\":2,\"line_dash\":[4,4],\"fill_color\":\"lightgrey\",\"fill_alpha\":0.5}},\"match_aspect\":true}},{\"type\":\"object\",\"name\":\"HoverTool\",\"id\":\"p1115\",\"attributes\":{\"tags\":[\"hv_created\"],\"renderers\":[{\"id\":\"p1163\"}],\"tooltips\":[[\"Lng\",\"$x{custom}\"],[\"Lat\",\"$y{custom}\"],[\"City\",\"@{City}\"],[\"Humidity\",\"@{Humidity}\"],[\"Hotel Name\",\"@{Hotel_Name}\"]],\"formatters\":{\"type\":\"map\",\"entries\":[[\"$x\",{\"type\":\"object\",\"name\":\"CustomJSHover\",\"id\":\"p1168\",\"attributes\":{\"code\":\"\\n        const projections = Bokeh.require(\\\"core/util/projections\\\");\\n        const {snap_x, snap_y} = special_vars\\n        const coords = projections.wgs84_mercator.invert(snap_x, snap_y)\\n        return \\\"\\\" + (coords[0]).toFixed(4)\\n    \"}}],[\"$y\",{\"type\":\"object\",\"name\":\"CustomJSHover\",\"id\":\"p1169\",\"attributes\":{\"code\":\"\\n        const projections = Bokeh.require(\\\"core/util/projections\\\");\\n        const {snap_x, snap_y} = special_vars\\n        const coords = projections.wgs84_mercator.invert(snap_x, snap_y)\\n        return \\\"\\\" + (coords[1]).toFixed(4)\\n    \"}}]]}}},{\"type\":\"object\",\"name\":\"PanTool\",\"id\":\"p1139\"},{\"type\":\"object\",\"name\":\"ResetTool\",\"id\":\"p1140\"}],\"active_drag\":{\"id\":\"p1139\"}}},\"left\":[{\"type\":\"object\",\"name\":\"LinearAxis\",\"id\":\"p1133\",\"attributes\":{\"ticker\":{\"type\":\"object\",\"name\":\"MercatorTicker\",\"id\":\"p1143\",\"attributes\":{\"mantissas\":[1,2,5],\"dimension\":\"lat\"}},\"formatter\":{\"type\":\"object\",\"name\":\"MercatorTickFormatter\",\"id\":\"p1144\",\"attributes\":{\"dimension\":\"lat\"}},\"axis_label\":\"Latitude\",\"major_label_policy\":{\"type\":\"object\",\"name\":\"AllLabels\",\"id\":\"p1136\"}}}],\"below\":[{\"type\":\"object\",\"name\":\"LinearAxis\",\"id\":\"p1128\",\"attributes\":{\"ticker\":{\"type\":\"object\",\"name\":\"MercatorTicker\",\"id\":\"p1141\",\"attributes\":{\"mantissas\":[1,2,5],\"dimension\":\"lon\"}},\"formatter\":{\"type\":\"object\",\"name\":\"MercatorTickFormatter\",\"id\":\"p1142\",\"attributes\":{\"dimension\":\"lon\"}},\"axis_label\":\"Longitude\",\"major_label_policy\":{\"type\":\"object\",\"name\":\"AllLabels\",\"id\":\"p1131\"}}}],\"center\":[{\"type\":\"object\",\"name\":\"Grid\",\"id\":\"p1132\",\"attributes\":{\"axis\":{\"id\":\"p1128\"},\"grid_line_color\":null}},{\"type\":\"object\",\"name\":\"Grid\",\"id\":\"p1137\",\"attributes\":{\"dimension\":1,\"axis\":{\"id\":\"p1133\"},\"grid_line_color\":null}},{\"type\":\"object\",\"name\":\"Legend\",\"id\":\"p1166\",\"attributes\":{\"click_policy\":\"mute\",\"items\":[{\"type\":\"object\",\"name\":\"LegendItem\",\"id\":\"p1167\",\"attributes\":{\"label\":{\"type\":\"value\",\"value\":\"City Locations\"},\"renderers\":[{\"id\":\"p1163\"}]}}]}}],\"min_border_top\":10,\"min_border_bottom\":10,\"min_border_left\":10,\"min_border_right\":10,\"output_backend\":\"webgl\"}},{\"type\":\"object\",\"name\":\"Spacer\",\"id\":\"p1172\",\"attributes\":{\"name\":\"HSpacer03226\",\"stylesheets\":[\"\\n:host(.pn-loading.pn-arc):before, .pn-loading.pn-arc:before {\\n  background-image: url(\\\"data:image/svg+xml;base64,PHN2ZyB4bWxucz0iaHR0cDovL3d3dy53My5vcmcvMjAwMC9zdmciIHN0eWxlPSJtYXJnaW46IGF1dG87IGJhY2tncm91bmQ6IG5vbmU7IGRpc3BsYXk6IGJsb2NrOyBzaGFwZS1yZW5kZXJpbmc6IGF1dG87IiB2aWV3Qm94PSIwIDAgMTAwIDEwMCIgcHJlc2VydmVBc3BlY3RSYXRpbz0ieE1pZFlNaWQiPiAgPGNpcmNsZSBjeD0iNTAiIGN5PSI1MCIgZmlsbD0ibm9uZSIgc3Ryb2tlPSIjYzNjM2MzIiBzdHJva2Utd2lkdGg9IjEwIiByPSIzNSIgc3Ryb2tlLWRhc2hhcnJheT0iMTY0LjkzMzYxNDMxMzQ2NDE1IDU2Ljk3Nzg3MTQzNzgyMTM4Ij4gICAgPGFuaW1hdGVUcmFuc2Zvcm0gYXR0cmlidXRlTmFtZT0idHJhbnNmb3JtIiB0eXBlPSJyb3RhdGUiIHJlcGVhdENvdW50PSJpbmRlZmluaXRlIiBkdXI9IjFzIiB2YWx1ZXM9IjAgNTAgNTA7MzYwIDUwIDUwIiBrZXlUaW1lcz0iMDsxIj48L2FuaW1hdGVUcmFuc2Zvcm0+ICA8L2NpcmNsZT48L3N2Zz4=\\\");\\n  background-size: auto calc(min(50%, 400px));\\n}\",{\"id\":\"p1094\"},{\"id\":\"p1092\"},{\"id\":\"p1093\"}],\"margin\":0,\"sizing_mode\":\"stretch_width\",\"align\":\"start\"}}]}}],\"defs\":[{\"type\":\"model\",\"name\":\"ReactiveHTML1\"},{\"type\":\"model\",\"name\":\"FlexBox1\",\"properties\":[{\"name\":\"align_content\",\"kind\":\"Any\",\"default\":\"flex-start\"},{\"name\":\"align_items\",\"kind\":\"Any\",\"default\":\"flex-start\"},{\"name\":\"flex_direction\",\"kind\":\"Any\",\"default\":\"row\"},{\"name\":\"flex_wrap\",\"kind\":\"Any\",\"default\":\"wrap\"},{\"name\":\"justify_content\",\"kind\":\"Any\",\"default\":\"flex-start\"}]},{\"type\":\"model\",\"name\":\"FloatPanel1\",\"properties\":[{\"name\":\"config\",\"kind\":\"Any\",\"default\":{\"type\":\"map\"}},{\"name\":\"contained\",\"kind\":\"Any\",\"default\":true},{\"name\":\"position\",\"kind\":\"Any\",\"default\":\"right-top\"},{\"name\":\"offsetx\",\"kind\":\"Any\",\"default\":null},{\"name\":\"offsety\",\"kind\":\"Any\",\"default\":null},{\"name\":\"theme\",\"kind\":\"Any\",\"default\":\"primary\"},{\"name\":\"status\",\"kind\":\"Any\",\"default\":\"normalized\"}]},{\"type\":\"model\",\"name\":\"GridStack1\",\"properties\":[{\"name\":\"mode\",\"kind\":\"Any\",\"default\":\"warn\"},{\"name\":\"ncols\",\"kind\":\"Any\",\"default\":null},{\"name\":\"nrows\",\"kind\":\"Any\",\"default\":null},{\"name\":\"allow_resize\",\"kind\":\"Any\",\"default\":true},{\"name\":\"allow_drag\",\"kind\":\"Any\",\"default\":true},{\"name\":\"state\",\"kind\":\"Any\",\"default\":[]}]},{\"type\":\"model\",\"name\":\"drag1\",\"properties\":[{\"name\":\"slider_width\",\"kind\":\"Any\",\"default\":5},{\"name\":\"slider_color\",\"kind\":\"Any\",\"default\":\"black\"},{\"name\":\"value\",\"kind\":\"Any\",\"default\":50}]},{\"type\":\"model\",\"name\":\"click1\",\"properties\":[{\"name\":\"terminal_output\",\"kind\":\"Any\",\"default\":\"\"},{\"name\":\"debug_name\",\"kind\":\"Any\",\"default\":\"\"},{\"name\":\"clears\",\"kind\":\"Any\",\"default\":0}]},{\"type\":\"model\",\"name\":\"toggle_value1\",\"properties\":[{\"name\":\"active_icons\",\"kind\":\"Any\",\"default\":{\"type\":\"map\"}},{\"name\":\"options\",\"kind\":\"Any\",\"default\":{\"type\":\"map\",\"entries\":[[\"favorite\",\"heart\"]]}},{\"name\":\"value\",\"kind\":\"Any\",\"default\":[]},{\"name\":\"_reactions\",\"kind\":\"Any\",\"default\":[]},{\"name\":\"_base_url\",\"kind\":\"Any\",\"default\":\"https://tabler-icons.io/static/tabler-icons/icons/\"}]},{\"type\":\"model\",\"name\":\"copy_to_clipboard1\",\"properties\":[{\"name\":\"value\",\"kind\":\"Any\",\"default\":null},{\"name\":\"fill\",\"kind\":\"Any\",\"default\":\"none\"}]},{\"type\":\"model\",\"name\":\"FastWrapper1\",\"properties\":[{\"name\":\"object\",\"kind\":\"Any\",\"default\":null},{\"name\":\"style\",\"kind\":\"Any\",\"default\":null}]},{\"type\":\"model\",\"name\":\"NotificationAreaBase1\",\"properties\":[{\"name\":\"js_events\",\"kind\":\"Any\",\"default\":{\"type\":\"map\"}},{\"name\":\"position\",\"kind\":\"Any\",\"default\":\"bottom-right\"},{\"name\":\"_clear\",\"kind\":\"Any\",\"default\":0}]},{\"type\":\"model\",\"name\":\"NotificationArea1\",\"properties\":[{\"name\":\"js_events\",\"kind\":\"Any\",\"default\":{\"type\":\"map\"}},{\"name\":\"notifications\",\"kind\":\"Any\",\"default\":[]},{\"name\":\"position\",\"kind\":\"Any\",\"default\":\"bottom-right\"},{\"name\":\"_clear\",\"kind\":\"Any\",\"default\":0},{\"name\":\"types\",\"kind\":\"Any\",\"default\":[{\"type\":\"map\",\"entries\":[[\"type\",\"warning\"],[\"background\",\"#ffc107\"],[\"icon\",{\"type\":\"map\",\"entries\":[[\"className\",\"fas fa-exclamation-triangle\"],[\"tagName\",\"i\"],[\"color\",\"white\"]]}]]},{\"type\":\"map\",\"entries\":[[\"type\",\"info\"],[\"background\",\"#007bff\"],[\"icon\",{\"type\":\"map\",\"entries\":[[\"className\",\"fas fa-info-circle\"],[\"tagName\",\"i\"],[\"color\",\"white\"]]}]]}]}]},{\"type\":\"model\",\"name\":\"Notification\",\"properties\":[{\"name\":\"background\",\"kind\":\"Any\",\"default\":null},{\"name\":\"duration\",\"kind\":\"Any\",\"default\":3000},{\"name\":\"icon\",\"kind\":\"Any\",\"default\":null},{\"name\":\"message\",\"kind\":\"Any\",\"default\":\"\"},{\"name\":\"notification_type\",\"kind\":\"Any\",\"default\":null},{\"name\":\"_destroyed\",\"kind\":\"Any\",\"default\":false}]},{\"type\":\"model\",\"name\":\"TemplateActions1\",\"properties\":[{\"name\":\"open_modal\",\"kind\":\"Any\",\"default\":0},{\"name\":\"close_modal\",\"kind\":\"Any\",\"default\":0}]},{\"type\":\"model\",\"name\":\"BootstrapTemplateActions1\",\"properties\":[{\"name\":\"open_modal\",\"kind\":\"Any\",\"default\":0},{\"name\":\"close_modal\",\"kind\":\"Any\",\"default\":0}]},{\"type\":\"model\",\"name\":\"MaterialTemplateActions1\",\"properties\":[{\"name\":\"open_modal\",\"kind\":\"Any\",\"default\":0},{\"name\":\"close_modal\",\"kind\":\"Any\",\"default\":0}]}]}};\n",
       "  var render_items = [{\"docid\":\"cab5f151-ee0e-41c3-906b-2af1918f7c25\",\"roots\":{\"p1091\":\"ea5f5d66-b253-42a7-b9ee-d4b2d02657f0\"},\"root_ids\":[\"p1091\"]}];\n",
       "  var docs = Object.values(docs_json)\n",
       "  if (!docs) {\n",
       "    return\n",
       "  }\n",
       "  const py_version = docs[0].version.replace('rc', '-rc.').replace('.dev', '-dev.')\n",
       "  function embed_document(root) {\n",
       "    var Bokeh = get_bokeh(root)\n",
       "    Bokeh.embed.embed_items_notebook(docs_json, render_items);\n",
       "    for (const render_item of render_items) {\n",
       "      for (const root_id of render_item.root_ids) {\n",
       "\tconst id_el = document.getElementById(root_id)\n",
       "\tif (id_el.children.length && (id_el.children[0].className === 'bk-root')) {\n",
       "\t  const root_el = id_el.children[0]\n",
       "\t  root_el.id = root_el.id + '-rendered'\n",
       "\t}\n",
       "      }\n",
       "    }\n",
       "  }\n",
       "  function get_bokeh(root) {\n",
       "    if (root.Bokeh === undefined) {\n",
       "      return null\n",
       "    } else if (root.Bokeh.version !== py_version) {\n",
       "      if (root.Bokeh.versions === undefined || !root.Bokeh.versions.has(py_version)) {\n",
       "\treturn null\n",
       "      }\n",
       "      return root.Bokeh.versions.get(py_version);\n",
       "    } else if (root.Bokeh.version === py_version) {\n",
       "      return root.Bokeh\n",
       "    }\n",
       "    return null\n",
       "  }\n",
       "  function is_loaded(root) {\n",
       "    var Bokeh = get_bokeh(root)\n",
       "    return (Bokeh != null && Bokeh.Panel !== undefined)\n",
       "  }\n",
       "  if (is_loaded(root)) {\n",
       "    embed_document(root);\n",
       "  } else {\n",
       "    var attempts = 0;\n",
       "    var timer = setInterval(function(root) {\n",
       "      if (is_loaded(root)) {\n",
       "        clearInterval(timer);\n",
       "        embed_document(root);\n",
       "      } else if (document.readyState == \"complete\") {\n",
       "        attempts++;\n",
       "        if (attempts > 200) {\n",
       "          clearInterval(timer);\n",
       "\t  var Bokeh = get_bokeh(root)\n",
       "\t  if (Bokeh == null || Bokeh.Panel == null) {\n",
       "            console.warn(\"Panel: ERROR: Unable to run Panel code because Bokeh or Panel library is missing\");\n",
       "\t  } else {\n",
       "\t    console.warn(\"Panel: WARNING: Attempting to render but not all required libraries could be resolved.\")\n",
       "\t    embed_document(root)\n",
       "\t  }\n",
       "        }\n",
       "      }\n",
       "    }, 25, root)\n",
       "  }\n",
       "})(window);</script>"
      ],
      "text/plain": [
       ":Overlay\n",
       "   .WMTS.I                :WMTS   [Longitude,Latitude]\n",
       "   .Points.City_Locations :Points   [Lng,Lat]   (City,Humidity,Hotel Name)"
      ]
     },
     "execution_count": 8,
     "metadata": {
      "application/vnd.holoviews_exec.v0+json": {
       "id": "p1091"
      }
     },
     "output_type": "execute_result"
    }
   ],
   "source": [
    "import geoviews as gv\n",
    "import geoviews.tile_sources as gts\n",
    "\n",
    "# Define a GeoViews element using Points\n",
    "cities_element = gv.Points(\n",
    "    hotel_df, \n",
    "    kdims=['Lng', 'Lat'], \n",
    "    vdims=['City', 'Humidity', 'Hotel Name'],\n",
    "    label='City Locations'\n",
    ").opts(\n",
    "    size=10, \n",
    "    tools=['hover'], \n",
    "    color='pink',\n",
    "    hover_color='pink',\n",
    "    hover_fill_color='pink',\n",
    "    hover_line_color='black',  \n",
    "    width=800,  # Set the width of the plot\n",
    "    height=500,  # Set the height of the plot\n",
    ")\n",
    "\n",
    "# Create a basemap using GeoViews tile_sources\n",
    "basemap = gts.EsriImagery()\n",
    "\n",
    "# Combine the basemap and the GeoViews element\n",
    "geo_plot = basemap * cities_element\n",
    "\n",
    "# Display the GeoViews plot\n",
    "geo_plot\n"
   ]
  },
  {
   "cell_type": "code",
   "execution_count": null,
   "metadata": {},
   "outputs": [],
   "source": []
  }
 ],
 "metadata": {
  "kernelspec": {
   "display_name": "Python 3 (ipykernel)",
   "language": "python",
   "name": "python3"
  },
  "language_info": {
   "codemirror_mode": {
    "name": "ipython",
    "version": 3
   },
   "file_extension": ".py",
   "mimetype": "text/x-python",
   "name": "python",
   "nbconvert_exporter": "python",
   "pygments_lexer": "ipython3",
   "version": "3.11.5"
  },
  "latex_envs": {
   "LaTeX_envs_menu_present": true,
   "autoclose": false,
   "autocomplete": true,
   "bibliofile": "biblio.bib",
   "cite_by": "apalike",
   "current_citInitial": 1,
   "eqLabelWithNumbers": true,
   "eqNumInitial": 1,
   "hotkeys": {
    "equation": "Ctrl-E",
    "itemize": "Ctrl-I"
   },
   "labels_anchors": false,
   "latex_user_defs": false,
   "report_style_numbering": false,
   "user_envs_cfg": false
  }
 },
 "nbformat": 4,
 "nbformat_minor": 4
}
